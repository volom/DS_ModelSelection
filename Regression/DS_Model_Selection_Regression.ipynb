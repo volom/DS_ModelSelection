{
  "nbformat": 4,
  "nbformat_minor": 0,
  "metadata": {
    "colab": {
      "name": "DS_Model_Selection_Regression.ipynb",
      "provenance": [],
      "collapsed_sections": []
    },
    "kernelspec": {
      "name": "python3",
      "display_name": "Python 3"
    },
    "language_info": {
      "name": "python"
    }
  },
  "cells": [
    {
      "cell_type": "markdown",
      "metadata": {
        "id": "_1JbHmgEjtWS"
      },
      "source": [
        "#Getting ready to estimation!"
      ]
    },
    {
      "cell_type": "markdown",
      "metadata": {
        "id": "qD1tW8hoirQw"
      },
      "source": [
        "It's used **sklearn version 1.0** in this script. The version of the library defines models and their hyperparameters to estimate. But you can use any version, just put suitable models and parameters or update your sklearn with below command"
      ]
    },
    {
      "cell_type": "code",
      "metadata": {
        "colab": {
          "base_uri": "https://localhost:8080/",
          "height": 372
        },
        "id": "sWUSAzwrAS0Z",
        "outputId": "6e1f12cb-d390-4c69-a26a-72b80d71b8e7"
      },
      "source": [
        "!pip install -U scikit-learn"
      ],
      "execution_count": 3,
      "outputs": [
        {
          "output_type": "stream",
          "name": "stdout",
          "text": [
            "Requirement already satisfied: scikit-learn in /usr/local/lib/python3.7/dist-packages (0.22.2.post1)\n",
            "Collecting scikit-learn\n",
            "  Downloading scikit_learn-1.0-cp37-cp37m-manylinux_2_12_x86_64.manylinux2010_x86_64.whl (23.1 MB)\n",
            "\u001b[K     |████████████████████████████████| 23.1 MB 5.6 kB/s \n",
            "\u001b[?25hCollecting threadpoolctl>=2.0.0\n",
            "  Downloading threadpoolctl-3.0.0-py3-none-any.whl (14 kB)\n",
            "Requirement already satisfied: scipy>=1.1.0 in /usr/local/lib/python3.7/dist-packages (from scikit-learn) (1.4.1)\n",
            "Requirement already satisfied: numpy>=1.14.6 in /usr/local/lib/python3.7/dist-packages (from scikit-learn) (1.19.5)\n",
            "Requirement already satisfied: joblib>=0.11 in /usr/local/lib/python3.7/dist-packages (from scikit-learn) (1.0.1)\n",
            "Installing collected packages: threadpoolctl, scikit-learn\n",
            "  Attempting uninstall: scikit-learn\n",
            "    Found existing installation: scikit-learn 0.22.2.post1\n",
            "    Uninstalling scikit-learn-0.22.2.post1:\n",
            "      Successfully uninstalled scikit-learn-0.22.2.post1\n",
            "Successfully installed scikit-learn-1.0 threadpoolctl-3.0.0\n"
          ]
        },
        {
          "output_type": "display_data",
          "data": {
            "application/vnd.colab-display-data+json": {
              "pip_warning": {
                "packages": [
                  "sklearn"
                ]
              }
            }
          },
          "metadata": {}
        }
      ]
    },
    {
      "cell_type": "markdown",
      "metadata": {
        "id": "P7bTeZBSjpdm"
      },
      "source": [
        "#Importing dependencies"
      ]
    },
    {
      "cell_type": "code",
      "metadata": {
        "id": "F9FvpYwgAGHG"
      },
      "source": [
        "import itertools\n",
        "import numpy as np\n",
        "import pandas as pd\n",
        "from tqdm import tqdm\n",
        "import time\n",
        "\n",
        "from sklearn.metrics import r2_score\n",
        "from sklearn.tree import DecisionTreeRegressor\n",
        "from sklearn.preprocessing import StandardScaler\n",
        "from sklearn.svm import SVR\n",
        "from sklearn.svm import LinearSVR\n",
        "from sklearn.ensemble import RandomForestRegressor\n",
        "from sklearn.linear_model import LinearRegression\n",
        "from sklearn.ensemble import GradientBoostingRegressor\n",
        "# from sklearn.model_selection import GridSearchCV\n",
        "\n",
        "import warnings\n",
        "warnings.filterwarnings('ignore')"
      ],
      "execution_count": 203,
      "outputs": []
    },
    {
      "cell_type": "markdown",
      "metadata": {
        "id": "cfx2o5fNj7tY"
      },
      "source": [
        "#Handle with input data"
      ]
    },
    {
      "cell_type": "markdown",
      "metadata": {
        "id": "Etfb1161iX2N"
      },
      "source": [
        "Choose models and parameters. Put it into model list"
      ]
    },
    {
      "cell_type": "code",
      "metadata": {
        "id": "2Ioi1OMSVFdX"
      },
      "source": [
        "params_dt = {'criterion': ('mse', 'friedman_mse', 'absolute_error', 'mae', 'poisson'),\n",
        "             'max_depth': (1, 2, 3, 4, 5, 6, 7),\n",
        "             'max_features': [None, 'auto', 'sqrt', 'log2'],\n",
        "             'min_weight_fraction_leaf': [0, 0.1, 0.2, 0.3]}\n",
        "\n",
        "params_linear_svr = {'epsilon': [0.1, 0.2, 0.3],\n",
        "                     'loss': ['epsilon_insensitive', 'squared_epsilon_insensitive'],\n",
        "                     'fit_intercept': [True, False],\n",
        "                     'max_iter': [1, 2, 3, 4, 5, 6, 7]}\n",
        "params_rf = {'n_estimators': [90, 100, 150, 200],\n",
        "             'max_depth': [None, 5, 7, 10, 15],\n",
        "             'max_features': ['auto', 'sqrt', 'log2'],\n",
        "             }\n",
        "params_lr = {'fit_intercept': [True, False],\n",
        "             'normalize': [True, False],\n",
        "             'n_jobs': [None, 1, 5, 10, 15],\n",
        "             'positive': [True, False]}\n",
        "params_gbr = {'loss': ['squared_error', 'ls'],\n",
        "              'learning_rate': [0.1, 0.2, 0.3, 0.4, 0.5],\n",
        "              'n_estimators': [100, 150, 200],\n",
        "              'criterion':['friedman_mse', 'squared_error', 'mse']}"
      ],
      "execution_count": 220,
      "outputs": []
    },
    {
      "cell_type": "code",
      "metadata": {
        "id": "UIdXXaLpSeZB"
      },
      "source": [
        "models = [(DecisionTreeRegressor, params_dt), (LinearSVR, params_linear_svr), \n",
        "          (RandomForestRegressor, params_rf), (LinearRegression, params_lr),\n",
        "          (GradientBoostingRegressor, params_gbr)]"
      ],
      "execution_count": 225,
      "outputs": []
    },
    {
      "cell_type": "code",
      "metadata": {
        "colab": {
          "base_uri": "https://localhost:8080/",
          "height": 202
        },
        "id": "TPXAjPTEIlFx",
        "outputId": "e16e71f7-cfe7-4a9c-d4a9-e5ba7533d6a5"
      },
      "source": [
        "all_r2 = []\n",
        "dataset = pd.read_csv('Data_regression.csv')\n",
        "dataset.head()"
      ],
      "execution_count": 111,
      "outputs": [
        {
          "output_type": "execute_result",
          "data": {
            "text/html": [
              "<div>\n",
              "<style scoped>\n",
              "    .dataframe tbody tr th:only-of-type {\n",
              "        vertical-align: middle;\n",
              "    }\n",
              "\n",
              "    .dataframe tbody tr th {\n",
              "        vertical-align: top;\n",
              "    }\n",
              "\n",
              "    .dataframe thead th {\n",
              "        text-align: right;\n",
              "    }\n",
              "</style>\n",
              "<table border=\"1\" class=\"dataframe\">\n",
              "  <thead>\n",
              "    <tr style=\"text-align: right;\">\n",
              "      <th></th>\n",
              "      <th>AT</th>\n",
              "      <th>V</th>\n",
              "      <th>AP</th>\n",
              "      <th>RH</th>\n",
              "      <th>PE</th>\n",
              "    </tr>\n",
              "  </thead>\n",
              "  <tbody>\n",
              "    <tr>\n",
              "      <th>0</th>\n",
              "      <td>14.96</td>\n",
              "      <td>41.76</td>\n",
              "      <td>1024.07</td>\n",
              "      <td>73.17</td>\n",
              "      <td>463.26</td>\n",
              "    </tr>\n",
              "    <tr>\n",
              "      <th>1</th>\n",
              "      <td>25.18</td>\n",
              "      <td>62.96</td>\n",
              "      <td>1020.04</td>\n",
              "      <td>59.08</td>\n",
              "      <td>444.37</td>\n",
              "    </tr>\n",
              "    <tr>\n",
              "      <th>2</th>\n",
              "      <td>5.11</td>\n",
              "      <td>39.40</td>\n",
              "      <td>1012.16</td>\n",
              "      <td>92.14</td>\n",
              "      <td>488.56</td>\n",
              "    </tr>\n",
              "    <tr>\n",
              "      <th>3</th>\n",
              "      <td>20.86</td>\n",
              "      <td>57.32</td>\n",
              "      <td>1010.24</td>\n",
              "      <td>76.64</td>\n",
              "      <td>446.48</td>\n",
              "    </tr>\n",
              "    <tr>\n",
              "      <th>4</th>\n",
              "      <td>10.82</td>\n",
              "      <td>37.50</td>\n",
              "      <td>1009.23</td>\n",
              "      <td>96.62</td>\n",
              "      <td>473.90</td>\n",
              "    </tr>\n",
              "  </tbody>\n",
              "</table>\n",
              "</div>"
            ],
            "text/plain": [
              "      AT      V       AP     RH      PE\n",
              "0  14.96  41.76  1024.07  73.17  463.26\n",
              "1  25.18  62.96  1020.04  59.08  444.37\n",
              "2   5.11  39.40  1012.16  92.14  488.56\n",
              "3  20.86  57.32  1010.24  76.64  446.48\n",
              "4  10.82  37.50  1009.23  96.62  473.90"
            ]
          },
          "metadata": {},
          "execution_count": 111
        }
      ]
    },
    {
      "cell_type": "code",
      "metadata": {
        "id": "7pb2Dv3QJOjt"
      },
      "source": [
        "# choose the variables from dataset\n",
        "X = dataset.iloc[:, :-1].values\n",
        "y = dataset.iloc[:, -1].values"
      ],
      "execution_count": 112,
      "outputs": []
    },
    {
      "cell_type": "code",
      "metadata": {
        "id": "s5ra-FdTJSpb"
      },
      "source": [
        "from sklearn.model_selection import train_test_split\n",
        "X_train, X_test, y_train, y_test = train_test_split(X, y, test_size = 0.2, random_state = 0)"
      ],
      "execution_count": 113,
      "outputs": []
    },
    {
      "cell_type": "markdown",
      "metadata": {
        "id": "owjAbmxZkHjq"
      },
      "source": [
        "#Main function"
      ]
    },
    {
      "cell_type": "code",
      "metadata": {
        "id": "lRrDu54NAOrU"
      },
      "source": [
        "def params_model_selection(model, parameters) -> pd.DataFrame:\n",
        "    \"\"\"\n",
        "    Function to run DS model with different hyperparameters in order to \n",
        "    estimate it and choose the one with the highest accuracy\n",
        "    \"\"\"\n",
        "    def combination_params(*params):\n",
        "        return itertools.product(*params)\n",
        "    r2_scores = []\n",
        "    params_final = []\n",
        "    params_values = list(combination_params(*list(parameters.values())))\n",
        "    print(f\"Estimation parameters of {model.__name__} model\")\n",
        "\n",
        "    for c in tqdm(params_values, position=0, leave=False):\n",
        "        # print(c)\n",
        "        params = dict(zip(tuple(parameters.keys()), c))\n",
        "        regressor = model(**params)\n",
        "        if model.__name__ == 'SVR':\n",
        "            X2_train = StandardScaler().fit_transform(X_train)\n",
        "            y2_train = StandardScaler().fit_transform(y_train)\n",
        "\n",
        "            regressor.fit(X2_train, y2_train)\n",
        "            y2_pred = regressor.predict(X2_test)\n",
        "\n",
        "            r2_scores.append(r2_score(y2_test, y2_pred))\n",
        "            params_final.append(params)\n",
        "            # print(f' Params {params_values.index(c)+1}/{len(params_values)} of {model.__name__} model is estimated')\n",
        "        else:\n",
        "            regressor.fit(X_train, y_train)\n",
        "            y_pred = regressor.predict(X_test)\n",
        "\n",
        "            r2_scores.append(r2_score(y_test, y_pred))\n",
        "            params_final.append(params)\n",
        "            # print(f' Params {params_values.index(c)+1}/{len(params_values)} of {model.__name__} model is estimated')\n",
        "        \n",
        "    print(f'Estimation {model.__name__} model done!')\n",
        "    df_res = pd.DataFrame({'Model':model.__name__, 'r2_scores': r2_scores, 'params_final': params_final})\n",
        "    max_r2 = df_res['r2_scores'].max()\n",
        "    print(f\"Max value of R2 is {max_r2}\")\n",
        "    return df_res\n"
      ],
      "execution_count": 218,
      "outputs": []
    },
    {
      "cell_type": "markdown",
      "metadata": {
        "id": "_TZws-oZkLH0"
      },
      "source": [
        "#Create result in table"
      ]
    },
    {
      "cell_type": "code",
      "metadata": {
        "id": "P94TJ8YIdH9J"
      },
      "source": [
        "df_result = pd.DataFrame(columns=['Model', 'r2_scores', 'params_final'])\n"
      ],
      "execution_count": 224,
      "outputs": []
    },
    {
      "cell_type": "code",
      "metadata": {
        "colab": {
          "base_uri": "https://localhost:8080/"
        },
        "id": "mvDXtEjFdT5R",
        "outputId": "9491288b-2326-483c-aa3c-cb83e18001d4"
      },
      "source": [
        "for model in models:\n",
        "    df_result = pd.concat([df_result, params_model_selection(model[0], model[1])])\n",
        "    print('\\n-----------------------')"
      ],
      "execution_count": 227,
      "outputs": [
        {
          "output_type": "stream",
          "name": "stdout",
          "text": [
            "Estimation parameters of DecisionTreeRegressor model\n"
          ]
        },
        {
          "output_type": "stream",
          "name": "stderr",
          "text": [
            ""
          ]
        },
        {
          "output_type": "stream",
          "name": "stdout",
          "text": [
            "Estimation DecisionTreeRegressor model done!\n",
            "Max value of R2 is 0.9452082880402115\n",
            "\n",
            "-----------------------\n",
            "Estimation parameters of LinearSVR model\n"
          ]
        },
        {
          "output_type": "stream",
          "name": "stderr",
          "text": [
            ""
          ]
        },
        {
          "output_type": "stream",
          "name": "stdout",
          "text": [
            "Estimation LinearSVR model done!\n",
            "Max value of R2 is 0.8900648379016677\n",
            "\n",
            "-----------------------\n",
            "Estimation parameters of RandomForestRegressor model\n"
          ]
        },
        {
          "output_type": "stream",
          "name": "stderr",
          "text": [
            ""
          ]
        },
        {
          "output_type": "stream",
          "name": "stdout",
          "text": [
            "Estimation RandomForestRegressor model done!\n",
            "Max value of R2 is 0.9677371194091035\n",
            "\n",
            "-----------------------\n",
            "Estimation parameters of LinearRegression model\n"
          ]
        },
        {
          "output_type": "stream",
          "name": "stderr",
          "text": [
            ""
          ]
        },
        {
          "output_type": "stream",
          "name": "stdout",
          "text": [
            "Estimation LinearRegression model done!\n",
            "Max value of R2 is 0.9325315554761303\n",
            "\n",
            "-----------------------\n",
            "Estimation parameters of GradientBoostingRegressor model\n"
          ]
        },
        {
          "output_type": "stream",
          "name": "stderr",
          "text": [
            "                                               "
          ]
        },
        {
          "output_type": "stream",
          "name": "stdout",
          "text": [
            "Estimation GradientBoostingRegressor model done!\n",
            "Max value of R2 is 0.965441238032781\n",
            "\n",
            "-----------------------\n"
          ]
        },
        {
          "output_type": "stream",
          "name": "stderr",
          "text": [
            "\r"
          ]
        }
      ]
    },
    {
      "cell_type": "code",
      "metadata": {
        "colab": {
          "base_uri": "https://localhost:8080/",
          "height": 414
        },
        "id": "nCo6EA9uWpsE",
        "outputId": "e6eb5336-08d1-461a-853b-c6db9f11e29d"
      },
      "source": [
        "df_result"
      ],
      "execution_count": 228,
      "outputs": [
        {
          "output_type": "execute_result",
          "data": {
            "text/html": [
              "<div>\n",
              "<style scoped>\n",
              "    .dataframe tbody tr th:only-of-type {\n",
              "        vertical-align: middle;\n",
              "    }\n",
              "\n",
              "    .dataframe tbody tr th {\n",
              "        vertical-align: top;\n",
              "    }\n",
              "\n",
              "    .dataframe thead th {\n",
              "        text-align: right;\n",
              "    }\n",
              "</style>\n",
              "<table border=\"1\" class=\"dataframe\">\n",
              "  <thead>\n",
              "    <tr style=\"text-align: right;\">\n",
              "      <th></th>\n",
              "      <th>Model</th>\n",
              "      <th>r2_scores</th>\n",
              "      <th>params_final</th>\n",
              "    </tr>\n",
              "  </thead>\n",
              "  <tbody>\n",
              "    <tr>\n",
              "      <th>0</th>\n",
              "      <td>DecisionTreeRegressor</td>\n",
              "      <td>0.728042</td>\n",
              "      <td>{'criterion': 'mse', 'max_depth': 1, 'max_feat...</td>\n",
              "    </tr>\n",
              "    <tr>\n",
              "      <th>1</th>\n",
              "      <td>DecisionTreeRegressor</td>\n",
              "      <td>0.728042</td>\n",
              "      <td>{'criterion': 'mse', 'max_depth': 1, 'max_feat...</td>\n",
              "    </tr>\n",
              "    <tr>\n",
              "      <th>2</th>\n",
              "      <td>DecisionTreeRegressor</td>\n",
              "      <td>0.728042</td>\n",
              "      <td>{'criterion': 'mse', 'max_depth': 1, 'max_feat...</td>\n",
              "    </tr>\n",
              "    <tr>\n",
              "      <th>3</th>\n",
              "      <td>DecisionTreeRegressor</td>\n",
              "      <td>0.728042</td>\n",
              "      <td>{'criterion': 'mse', 'max_depth': 1, 'max_feat...</td>\n",
              "    </tr>\n",
              "    <tr>\n",
              "      <th>4</th>\n",
              "      <td>DecisionTreeRegressor</td>\n",
              "      <td>0.728042</td>\n",
              "      <td>{'criterion': 'mse', 'max_depth': 1, 'max_feat...</td>\n",
              "    </tr>\n",
              "    <tr>\n",
              "      <th>...</th>\n",
              "      <td>...</td>\n",
              "      <td>...</td>\n",
              "      <td>...</td>\n",
              "    </tr>\n",
              "    <tr>\n",
              "      <th>85</th>\n",
              "      <td>GradientBoostingRegressor</td>\n",
              "      <td>0.963642</td>\n",
              "      <td>{'loss': 'ls', 'learning_rate': 0.5, 'n_estima...</td>\n",
              "    </tr>\n",
              "    <tr>\n",
              "      <th>86</th>\n",
              "      <td>GradientBoostingRegressor</td>\n",
              "      <td>0.963945</td>\n",
              "      <td>{'loss': 'ls', 'learning_rate': 0.5, 'n_estima...</td>\n",
              "    </tr>\n",
              "    <tr>\n",
              "      <th>87</th>\n",
              "      <td>GradientBoostingRegressor</td>\n",
              "      <td>0.965079</td>\n",
              "      <td>{'loss': 'ls', 'learning_rate': 0.5, 'n_estima...</td>\n",
              "    </tr>\n",
              "    <tr>\n",
              "      <th>88</th>\n",
              "      <td>GradientBoostingRegressor</td>\n",
              "      <td>0.965333</td>\n",
              "      <td>{'loss': 'ls', 'learning_rate': 0.5, 'n_estima...</td>\n",
              "    </tr>\n",
              "    <tr>\n",
              "      <th>89</th>\n",
              "      <td>GradientBoostingRegressor</td>\n",
              "      <td>0.965051</td>\n",
              "      <td>{'loss': 'ls', 'learning_rate': 0.5, 'n_estima...</td>\n",
              "    </tr>\n",
              "  </tbody>\n",
              "</table>\n",
              "<p>1508 rows × 3 columns</p>\n",
              "</div>"
            ],
            "text/plain": [
              "                        Model  ...                                       params_final\n",
              "0       DecisionTreeRegressor  ...  {'criterion': 'mse', 'max_depth': 1, 'max_feat...\n",
              "1       DecisionTreeRegressor  ...  {'criterion': 'mse', 'max_depth': 1, 'max_feat...\n",
              "2       DecisionTreeRegressor  ...  {'criterion': 'mse', 'max_depth': 1, 'max_feat...\n",
              "3       DecisionTreeRegressor  ...  {'criterion': 'mse', 'max_depth': 1, 'max_feat...\n",
              "4       DecisionTreeRegressor  ...  {'criterion': 'mse', 'max_depth': 1, 'max_feat...\n",
              "..                        ...  ...                                                ...\n",
              "85  GradientBoostingRegressor  ...  {'loss': 'ls', 'learning_rate': 0.5, 'n_estima...\n",
              "86  GradientBoostingRegressor  ...  {'loss': 'ls', 'learning_rate': 0.5, 'n_estima...\n",
              "87  GradientBoostingRegressor  ...  {'loss': 'ls', 'learning_rate': 0.5, 'n_estima...\n",
              "88  GradientBoostingRegressor  ...  {'loss': 'ls', 'learning_rate': 0.5, 'n_estima...\n",
              "89  GradientBoostingRegressor  ...  {'loss': 'ls', 'learning_rate': 0.5, 'n_estima...\n",
              "\n",
              "[1508 rows x 3 columns]"
            ]
          },
          "metadata": {},
          "execution_count": 228
        }
      ]
    },
    {
      "cell_type": "code",
      "metadata": {
        "colab": {
          "base_uri": "https://localhost:8080/",
          "height": 78
        },
        "id": "wv0zIL4Dgdts",
        "outputId": "14b2a710-f675-4a9e-80c2-d635c19f6731"
      },
      "source": [
        "df_result[df_result['r2_scores']==df_result['r2_scores'].max()]"
      ],
      "execution_count": 229,
      "outputs": [
        {
          "output_type": "execute_result",
          "data": {
            "text/html": [
              "<div>\n",
              "<style scoped>\n",
              "    .dataframe tbody tr th:only-of-type {\n",
              "        vertical-align: middle;\n",
              "    }\n",
              "\n",
              "    .dataframe tbody tr th {\n",
              "        vertical-align: top;\n",
              "    }\n",
              "\n",
              "    .dataframe thead th {\n",
              "        text-align: right;\n",
              "    }\n",
              "</style>\n",
              "<table border=\"1\" class=\"dataframe\">\n",
              "  <thead>\n",
              "    <tr style=\"text-align: right;\">\n",
              "      <th></th>\n",
              "      <th>Model</th>\n",
              "      <th>r2_scores</th>\n",
              "      <th>params_final</th>\n",
              "    </tr>\n",
              "  </thead>\n",
              "  <tbody>\n",
              "    <tr>\n",
              "      <th>17</th>\n",
              "      <td>RandomForestRegressor</td>\n",
              "      <td>0.967737</td>\n",
              "      <td>{'n_estimators': 100, 'max_depth': None, 'max_...</td>\n",
              "    </tr>\n",
              "  </tbody>\n",
              "</table>\n",
              "</div>"
            ],
            "text/plain": [
              "                    Model  ...                                       params_final\n",
              "17  RandomForestRegressor  ...  {'n_estimators': 100, 'max_depth': None, 'max_...\n",
              "\n",
              "[1 rows x 3 columns]"
            ]
          },
          "metadata": {},
          "execution_count": 229
        }
      ]
    },
    {
      "cell_type": "code",
      "metadata": {
        "colab": {
          "base_uri": "https://localhost:8080/"
        },
        "id": "EySmaCkehexW",
        "outputId": "92b02c9d-aba4-4985-bdcd-5122c381f4ad"
      },
      "source": [
        "list(df_result[df_result['r2_scores']==df_result['r2_scores'].max()]['params_final'])"
      ],
      "execution_count": 231,
      "outputs": [
        {
          "output_type": "execute_result",
          "data": {
            "text/plain": [
              "[{'max_depth': None, 'max_features': 'log2', 'n_estimators': 100}]"
            ]
          },
          "metadata": {},
          "execution_count": 231
        }
      ]
    }
  ]
}