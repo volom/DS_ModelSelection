{
 "cells": [
  {
   "cell_type": "code",
   "execution_count": 3,
   "metadata": {},
   "outputs": [
    {
     "name": "stdout",
     "output_type": "stream",
     "text": [
      "Collecting scikit-fuzzy\n",
      "  Downloading scikit-fuzzy-0.4.2.tar.gz (993 kB)\n",
      "\u001b[K     |████████████████████████████████| 993 kB 1.1 MB/s eta 0:00:01\n",
      "\u001b[?25hRequirement already satisfied: numpy>=1.6.0 in /opt/homebrew/anaconda3/lib/python3.8/site-packages (from scikit-fuzzy) (1.21.6)\n",
      "Requirement already satisfied: scipy>=0.9.0 in /opt/homebrew/anaconda3/lib/python3.8/site-packages (from scikit-fuzzy) (1.7.3)\n",
      "Requirement already satisfied: networkx>=1.9.0 in /opt/homebrew/anaconda3/lib/python3.8/site-packages (from scikit-fuzzy) (2.5)\n",
      "Requirement already satisfied: decorator>=4.3.0 in /opt/homebrew/anaconda3/lib/python3.8/site-packages (from networkx>=1.9.0->scikit-fuzzy) (4.4.2)\n",
      "Building wheels for collected packages: scikit-fuzzy\n",
      "  Building wheel for scikit-fuzzy (setup.py) ... \u001b[?25ldone\n",
      "\u001b[?25h  Created wheel for scikit-fuzzy: filename=scikit_fuzzy-0.4.2-py3-none-any.whl size=894069 sha256=fe0e429fc7f83e5b7f536d17f8af4bd5596eec19d67df60b49be44746ce8f45c\n",
      "  Stored in directory: /Users/vomelenchuk/Library/Caches/pip/wheels/2c/04/80/7eefb1a2de7d36aefd06432fab2a1486caf0a0596a7067391a\n",
      "Successfully built scikit-fuzzy\n",
      "Installing collected packages: scikit-fuzzy\n",
      "Successfully installed scikit-fuzzy-0.4.2\n"
     ]
    }
   ],
   "source": [
    "!pip install scikit-fuzzy"
   ]
  },
  {
   "cell_type": "code",
   "execution_count": 4,
   "metadata": {},
   "outputs": [],
   "source": [
    "import numpy as np\n",
    "import skfuzzy as fuzz\n",
    "from skfuzzy import control as ctrl"
   ]
  },
  {
   "attachments": {},
   "cell_type": "markdown",
   "metadata": {},
   "source": [
    "To begin, let's define the input variables for our fuzzy system. In this example, let's say we're trying to predict the amount of time a person will spend exercising based on their age and activity level."
   ]
  },
  {
   "cell_type": "code",
   "execution_count": 5,
   "metadata": {},
   "outputs": [],
   "source": [
    "# Define input variables\n",
    "age = ctrl.Antecedent(np.arange(0, 101, 1), 'age')\n",
    "activity_level = ctrl.Antecedent(np.arange(0, 11, 1), 'activity_level')"
   ]
  },
  {
   "attachments": {},
   "cell_type": "markdown",
   "metadata": {},
   "source": [
    "Next, let's define the output variable, which is the amount of time spent exercising."
   ]
  },
  {
   "cell_type": "code",
   "execution_count": 6,
   "metadata": {},
   "outputs": [],
   "source": [
    "# Define output variable\n",
    "exercise_time = ctrl.Consequent(np.arange(0, 61, 1), 'exercise_time')\n"
   ]
  },
  {
   "attachments": {},
   "cell_type": "markdown",
   "metadata": {},
   "source": [
    "Now, let's define the fuzzy membership functions for each of the input and output variables. This is where we specify how certain inputs map to certain outputs based on the rules we define."
   ]
  },
  {
   "cell_type": "code",
   "execution_count": 7,
   "metadata": {},
   "outputs": [],
   "source": [
    "# Define membership functions\n",
    "age.automf(3)\n",
    "activity_level.automf(3)\n",
    "exercise_time['low'] = fuzz.trimf(exercise_time.universe, [0, 0, 30])\n",
    "exercise_time['medium'] = fuzz.trimf(exercise_time.universe, [0, 30, 60])\n",
    "exercise_time['high'] = fuzz.trimf(exercise_time.universe, [30, 60, 60])"
   ]
  },
  {
   "attachments": {},
   "cell_type": "markdown",
   "metadata": {},
   "source": [
    "With the membership functions defined, we can now create the rules for our fuzzy system. These rules specify the relationship between the input and output variables."
   ]
  },
  {
   "cell_type": "code",
   "execution_count": 8,
   "metadata": {},
   "outputs": [],
   "source": [
    "# Define fuzzy rules\n",
    "rule1 = ctrl.Rule(age['poor'] & activity_level['poor'], exercise_time['low'])\n",
    "rule2 = ctrl.Rule(age['average'] & activity_level['average'], exercise_time['medium'])\n",
    "rule3 = ctrl.Rule(age['good'] & activity_level['good'], exercise_time['high'])"
   ]
  },
  {
   "attachments": {},
   "cell_type": "markdown",
   "metadata": {},
   "source": [
    "Finally, we can create a control system using the antecedents, consequents, and rules we defined."
   ]
  },
  {
   "cell_type": "code",
   "execution_count": 9,
   "metadata": {},
   "outputs": [],
   "source": [
    "# Create control system\n",
    "exercise_ctrl = ctrl.ControlSystem([rule1, rule2, rule3])\n",
    "exercise = ctrl.ControlSystemSimulation(exercise_ctrl)"
   ]
  },
  {
   "attachments": {},
   "cell_type": "markdown",
   "metadata": {},
   "source": [
    "Now we have a fuzzy logic-based machine learning model for predicting the amount of time a person will spend exercising based on their age and activity level. We can use this model to make predictions by specifying the values for age and activity_level."
   ]
  },
  {
   "cell_type": "code",
   "execution_count": 21,
   "metadata": {},
   "outputs": [
    {
     "name": "stdout",
     "output_type": "stream",
     "text": [
      "27.49397590361446\n"
     ]
    }
   ],
   "source": [
    "# Use model to make predictions\n",
    "exercise.input['age'] = 25\n",
    "exercise.input['activity_level'] = 3\n",
    "exercise.compute()\n",
    "\n",
    "# Result of model simulation\n",
    "print(exercise.output['exercise_time'])"
   ]
  },
  {
   "attachments": {},
   "cell_type": "markdown",
   "metadata": {},
   "source": [
    "# Using data from pandas dataframe"
   ]
  },
  {
   "cell_type": "code",
   "execution_count": 44,
   "metadata": {},
   "outputs": [],
   "source": [
    "import pandas as pd\n",
    "import numpy as np\n",
    "import skfuzzy as fuzz\n",
    "from skfuzzy import control as ctrl\n",
    "\n",
    "# Generate sample data\n",
    "ages = np.random.randint(5, 100, size=100)\n",
    "activity_levels = np.random.randint(1, 9, size=100)\n",
    "\n",
    "# Store the data in a Pandas DataFrame\n",
    "df = pd.DataFrame({'age': ages, 'activity_level': activity_levels})\n",
    "\n",
    "# Define input variables\n",
    "age = ctrl.Antecedent(np.arange(0, 100, 1), 'age')\n",
    "activity_level = ctrl.Antecedent(np.arange(0, 11, 1), 'activity_level')\n",
    "\n",
    "# Define output variable\n",
    "exercise_time = ctrl.Consequent(np.arange(0, 61, 1), 'exercise_time')\n",
    "\n",
    "# Define membership functions\n",
    "age.automf(3)\n",
    "activity_level.automf(3)\n",
    "exercise_time['low'] = fuzz.trimf(exercise_time.universe, [0, 0, 30])\n",
    "exercise_time['medium'] = fuzz.trimf(exercise_time.universe, [0, 30, 60])\n",
    "exercise_time['high'] = fuzz.trimf(exercise_time.universe, [30, 60, 60])\n",
    "\n",
    "# Define fuzzy rules\n",
    "rule1 = ctrl.Rule(age['poor'] & activity_level['poor'], exercise_time['low'])\n",
    "rule2 = ctrl.Rule(age['average'] & activity_level['average'], exercise_time['medium'])\n",
    "rule3 = ctrl.Rule(age['good'] & activity_level['good'], exercise_time['high'])\n",
    "\n",
    "# Create control system\n",
    "exercise_ctrl = ctrl.ControlSystem([rule1, rule2, rule3])\n",
    "exercise = ctrl.ControlSystemSimulation(exercise_ctrl)\n",
    "\n",
    "# Use model to make predictions for each row in the DataFrame\n",
    "predictions = []\n",
    "for i, row in df.iterrows():\n",
    "    exercise.input['age'] = row['age']\n",
    "    exercise.input['activity_level'] = row['activity_level']\n",
    "    exercise.compute()\n",
    "    predictions.append(exercise.output['exercise_time'])\n",
    "\n",
    "# Add the predictions to the DataFrame as a new column\n",
    "df['predicted_exercise_time'] = predictions"
   ]
  },
  {
   "cell_type": "code",
   "execution_count": 48,
   "metadata": {},
   "outputs": [
    {
     "data": {
      "text/html": [
       "<div>\n",
       "<style scoped>\n",
       "    .dataframe tbody tr th:only-of-type {\n",
       "        vertical-align: middle;\n",
       "    }\n",
       "\n",
       "    .dataframe tbody tr th {\n",
       "        vertical-align: top;\n",
       "    }\n",
       "\n",
       "    .dataframe thead th {\n",
       "        text-align: right;\n",
       "    }\n",
       "</style>\n",
       "<table border=\"1\" class=\"dataframe\">\n",
       "  <thead>\n",
       "    <tr style=\"text-align: right;\">\n",
       "      <th></th>\n",
       "      <th>age</th>\n",
       "      <th>activity_level</th>\n",
       "      <th>predicted_exercise_time</th>\n",
       "    </tr>\n",
       "  </thead>\n",
       "  <tbody>\n",
       "    <tr>\n",
       "      <th>0</th>\n",
       "      <td>14</td>\n",
       "      <td>8</td>\n",
       "      <td>30.000000</td>\n",
       "    </tr>\n",
       "    <tr>\n",
       "      <th>1</th>\n",
       "      <td>48</td>\n",
       "      <td>8</td>\n",
       "      <td>30.000000</td>\n",
       "    </tr>\n",
       "    <tr>\n",
       "      <th>2</th>\n",
       "      <td>26</td>\n",
       "      <td>5</td>\n",
       "      <td>30.000000</td>\n",
       "    </tr>\n",
       "    <tr>\n",
       "      <th>3</th>\n",
       "      <td>47</td>\n",
       "      <td>4</td>\n",
       "      <td>29.956760</td>\n",
       "    </tr>\n",
       "    <tr>\n",
       "      <th>4</th>\n",
       "      <td>44</td>\n",
       "      <td>4</td>\n",
       "      <td>29.812061</td>\n",
       "    </tr>\n",
       "  </tbody>\n",
       "</table>\n",
       "</div>"
      ],
      "text/plain": [
       "   age  activity_level  predicted_exercise_time\n",
       "0   14               8                30.000000\n",
       "1   48               8                30.000000\n",
       "2   26               5                30.000000\n",
       "3   47               4                29.956760\n",
       "4   44               4                29.812061"
      ]
     },
     "execution_count": 48,
     "metadata": {},
     "output_type": "execute_result"
    }
   ],
   "source": [
    "df.head()"
   ]
  },
  {
   "cell_type": "code",
   "execution_count": 47,
   "metadata": {},
   "outputs": [
    {
     "data": {
      "text/plain": [
       "<AxesSubplot:>"
      ]
     },
     "execution_count": 47,
     "metadata": {},
     "output_type": "execute_result"
    },
    {
     "data": {
      "image/png": "[encoded data removed]",
      "text/plain": [
       "<Figure size 432x288 with 1 Axes>"
      ]
     },
     "metadata": {
      "needs_background": "light"
     },
     "output_type": "display_data"
    }
   ],
   "source": [
    "df.plot()"
   ]
  }
 ],
 "metadata": {
  "kernelspec": {
   "display_name": "Python 3",
   "language": "python",
   "name": "python3"
  },
  "language_info": {
   "codemirror_mode": {
    "name": "ipython",
    "version": 3
   },
   "file_extension": ".py",
   "mimetype": "text/x-python",
   "name": "python",
   "nbconvert_exporter": "python",
   "pygments_lexer": "ipython3",
   "version": "3.8.5"
  },
  "orig_nbformat": 4,
  "vscode": {
   "interpreter": {
    "hash": "38cca0c38332a56087b24af0bc80247f4fced29cb4f7f437d91dc159adec9c4e"
   }
  }
 },
 "nbformat": 4,
 "nbformat_minor": 2
}
