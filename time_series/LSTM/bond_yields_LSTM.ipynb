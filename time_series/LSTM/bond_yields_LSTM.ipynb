{
  "cells": [
    {
      "cell_type": "markdown",
      "metadata": {
        "id": "nnMY0qfznSl1"
      },
      "source": [
        "## Predicting Yield Curve for future"
      ]
    },
    {
      "cell_type": "code",
      "execution_count": 6,
      "metadata": {
        "colab": {
          "base_uri": "https://localhost:8080/",
          "height": 561
        },
        "id": "VvashODHnSl1",
        "outputId": "1f06044f-3fac-4868-9b83-77537757c562"
      },
      "outputs": [
        {
          "output_type": "stream",
          "name": "stdout",
          "text": [
            "Epoch [50/50], Loss: 0.0045\n"
          ]
        },
        {
          "output_type": "display_data",
          "data": {
            "text/plain": [
              "<Figure size 432x288 with 1 Axes>"
            ],
            "image/png": "[encoded data removed]"
          },
          "metadata": {
            "needs_background": "light"
          }
        },
        {
          "output_type": "display_data",
          "data": {
            "text/plain": [
              "<Figure size 432x288 with 1 Axes>"
            ],
            "image/png": "[encoded data removed]"
          },
          "metadata": {
            "needs_background": "light"
          }
        }
      ],
      "source": [
        "import torch\n",
        "import torch.nn as nn\n",
        "import torch.optim as optim\n",
        "from torch.utils.data import Dataset, DataLoader\n",
        "import pandas as pd\n",
        "import numpy as np\n",
        "import matplotlib.pyplot as plt\n",
        "from IPython.display import clear_output\n",
        "\n",
        "# Load data\n",
        "df = pd.read_csv('bond_yields.csv')\n",
        "df = df[df['sname']=='30Y US Bond'].reset_index(drop=True)\n",
        "\n",
        "# Prepare data\n",
        "x = df['value'].values\n",
        "x = np.reshape(x, (-1, 1)).astype(np.float32)\n",
        "\n",
        "# Normalize data\n",
        "mean = np.mean(x)\n",
        "std = np.std(x)\n",
        "x = (x - mean) / std\n",
        "\n",
        "# Define dataset class\n",
        "class BondDataset(Dataset):\n",
        "    def __init__(self, data, seq_len):\n",
        "        self.data = data\n",
        "        self.seq_len = seq_len\n",
        "\n",
        "    def __len__(self):\n",
        "        return len(self.data) - self.seq_len\n",
        "\n",
        "    def __getitem__(self, idx):\n",
        "        x = self.data[idx:idx+self.seq_len]\n",
        "        y = self.data[idx+self.seq_len]\n",
        "        return x, y\n",
        "\n",
        "# Define LSTM model\n",
        "class LSTM(nn.Module):\n",
        "    def __init__(self, input_size=1, hidden_size=16, num_layers=2):\n",
        "        super(LSTM, self).__init__()\n",
        "        self.hidden_size = hidden_size\n",
        "        self.num_layers = num_layers\n",
        "        self.lstm = nn.LSTM(input_size, hidden_size, num_layers, batch_first=True)\n",
        "        self.fc = nn.Linear(hidden_size, 1)\n",
        "\n",
        "    def forward(self, x):\n",
        "        h0 = torch.zeros(self.num_layers, x.size(0), self.hidden_size).to(x.device)\n",
        "        c0 = torch.zeros(self.num_layers, x.size(0), self.hidden_size).to(x.device)\n",
        "        out, _ = self.lstm(x, (h0, c0))\n",
        "        out = self.fc(out[:, -1, :])\n",
        "        return out\n",
        "\n",
        "# Define training function\n",
        "def train(model, dataloader, optimizer, criterion, epochs):\n",
        "    loses = []\n",
        "    for epoch in range(epochs):\n",
        "        for x, y in dataloader:\n",
        "            x, y = x.to(device), y.to(device)\n",
        "            optimizer.zero_grad()\n",
        "            output = model(x)\n",
        "            loss = criterion(output, y)\n",
        "            loss.backward()\n",
        "            optimizer.step()\n",
        "        clear_output(wait=True)\n",
        "        print('Epoch [{}/{}], Loss: {:.4f}'.format(epoch+1, epochs, loss.item()))\n",
        "        loses.append(loss.item())\n",
        "        plt.plot(loses)\n",
        "        plt.show()\n",
        "\n",
        "# Set hyperparameters\n",
        "seq_len = 5\n",
        "input_size = 1\n",
        "hidden_size = 30\n",
        "num_layers = 8\n",
        "learning_rate = 0.001\n",
        "batch_size = 32\n",
        "epochs = 50\n",
        "\n",
        "# Prepare data for training\n",
        "dataset = BondDataset(x, seq_len)\n",
        "dataloader = DataLoader(dataset, batch_size=batch_size, shuffle=True)\n",
        "\n",
        "# Define device\n",
        "device = torch.device('cuda' if torch.cuda.is_available() else 'cpu')\n",
        "\n",
        "# Initialize model, loss function, and optimizer\n",
        "model = LSTM(input_size, hidden_size, num_layers).to(device)\n",
        "criterion = nn.MSELoss()\n",
        "optimizer = optim.Adam(model.parameters(), lr=learning_rate)\n",
        "\n",
        "# Train model\n",
        "train(model, dataloader, optimizer, criterion, epochs)\n",
        "\n",
        "# Prepare data for prediction\n",
        "x_pred = x[-seq_len:]\n",
        "x_pred = np.reshape(x_pred, (1, seq_len, input_size))\n",
        "x_pred = torch.from_numpy(x_pred).to(device)\n",
        "\n",
        "# Predict future values\n",
        "model.eval()\n",
        "\n",
        "# Denormalize data\n",
        "x = x * std + mean\n",
        "\n",
        "# Predict future values\n",
        "model.eval()\n",
        "with torch.no_grad():\n",
        "    predictions = []\n",
        "    for i in range(10):\n",
        "        y_pred = model(x_pred).item()\n",
        "        x_pred = torch.cat((x_pred[:, 1:, :], torch.tensor([[[y_pred]]]).to(device)), axis=1)\n",
        "        predictions.append(y_pred)\n",
        "\n",
        "# Denormalize predictions\n",
        "predictions = np.array(predictions)\n",
        "predictions = predictions * std + mean\n",
        "\n",
        "# Plot actual values and predicted values\n",
        "plt.plot(df['value'], color='blue', label='Actual')\n",
        "plt.plot(range(len(df), len(df)+10), predictions, color='red', label='Predicted')\n",
        "plt.xlim(df.index[-100], df.index[-1]+10)\n",
        "plt.title('Bond Yield Prediction')\n",
        "plt.xlabel('Time')\n",
        "plt.ylabel('Yield')\n",
        "plt.legend()\n",
        "plt.show()"
      ]
    },
    {
      "cell_type": "code",
      "source": [
        "predictions"
      ],
      "metadata": {
        "colab": {
          "base_uri": "https://localhost:8080/"
        },
        "id": "KHEvmtQ9g_HM",
        "outputId": "6da59b97-8ee3-4cd9-f874-93d7daaafc8d"
      },
      "execution_count": 8,
      "outputs": [
        {
          "output_type": "execute_result",
          "data": {
            "text/plain": [
              "array([3.97579009, 3.97507869, 3.97705083, 3.97895305, 3.98096551,\n",
              "       3.98298591, 3.98498511, 3.98705999, 3.98920745, 3.99143571])"
            ]
          },
          "metadata": {},
          "execution_count": 8
        }
      ]
    }
  ],
  "metadata": {
    "kernelspec": {
      "display_name": "Python 3",
      "language": "python",
      "name": "python3"
    },
    "language_info": {
      "codemirror_mode": {
        "name": "ipython",
        "version": 3
      },
      "file_extension": ".py",
      "mimetype": "text/x-python",
      "name": "python",
      "nbconvert_exporter": "python",
      "pygments_lexer": "ipython3",
      "version": "3.8.5"
    },
    "orig_nbformat": 4,
    "vscode": {
      "interpreter": {
        "hash": "38cca0c38332a56087b24af0bc80247f4fced29cb4f7f437d91dc159adec9c4e"
      }
    },
    "colab": {
      "provenance": []
    }
  },
  "nbformat": 4,
  "nbformat_minor": 0
}