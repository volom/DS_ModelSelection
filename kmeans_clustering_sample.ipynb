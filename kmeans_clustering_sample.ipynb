{
  "nbformat": 4,
  "nbformat_minor": 0,
  "metadata": {
    "colab": {
      "name": "\"9ознак_кластери (обновление инф).ipynb\"",
      "provenance": [],
      "collapsed_sections": []
    },
    "kernelspec": {
      "name": "python3",
      "display_name": "Python 3"
    }
  },
  "cells": [
    {
      "cell_type": "markdown",
      "metadata": {
        "id": "F-XbsJ-T8WH2"
      },
      "source": [
        "1 способ Депозити фізичних осіб/ всього зобов'язань, Кредити юридичних осіб/всього активи\n",
        "\n",
        "2 способ Депозити фізичних осіб/ всього зобов'язань ,Кредити юридичних осіб/всього кредити\n",
        "\n",
        "3 способ Депозити фізичних осіб/ всього зобов'язань ,Кредити юридичних осіб/всього чисті активи"
      ]
    },
    {
      "cell_type": "code",
      "metadata": {
        "id": "VZucbvRBd2gu",
        "colab": {
          "base_uri": "https://localhost:8080/"
        },
        "outputId": "b6e50f86-df22-4695-e5f0-01a6432013aa"
      },
      "source": [
        "import numpy as np\n",
        "import matplotlib.pyplot as plt\n",
        "import pandas as pd\n",
        "import math\n",
        "import heapq\n",
        "import seaborn as sns\n",
        "import numpy as np\n",
        "# plt.style.use('ggplot')\n",
        "plt.style.use('grayscale')\n",
        "# plt.rcParams['axes.prop_cycle']\n",
        "%matplotlib"
      ],
      "execution_count": null,
      "outputs": [
        {
          "output_type": "stream",
          "name": "stdout",
          "text": [
            "Using matplotlib backend: agg\n"
          ]
        }
      ]
    },
    {
      "cell_type": "code",
      "metadata": {
        "id": "Lhvq6owJd7YF"
      },
      "source": [
        "dataset = pd.read_excel('9_ознак_кластери(new).xlsx')\n",
        "ddd = dataset.iloc[:,-1]\n",
        "dataset = dataset.iloc[:,:-1]"
      ],
      "execution_count": null,
      "outputs": []
    },
    {
      "cell_type": "code",
      "metadata": {
        "colab": {
          "base_uri": "https://localhost:8080/",
          "height": 311
        },
        "id": "tx7tN2nFd66Y",
        "outputId": "04accfce-ba7f-4f2d-f34e-1c35cdef00c4"
      },
      "source": [
        "dataset.head(3)"
      ],
      "execution_count": null,
      "outputs": [
        {
          "output_type": "execute_result",
          "data": {
            "text/html": [
              "<div>\n",
              "<style scoped>\n",
              "    .dataframe tbody tr th:only-of-type {\n",
              "        vertical-align: middle;\n",
              "    }\n",
              "\n",
              "    .dataframe tbody tr th {\n",
              "        vertical-align: top;\n",
              "    }\n",
              "\n",
              "    .dataframe thead th {\n",
              "        text-align: right;\n",
              "    }\n",
              "</style>\n",
              "<table border=\"1\" class=\"dataframe\">\n",
              "  <thead>\n",
              "    <tr style=\"text-align: right;\">\n",
              "      <th></th>\n",
              "      <th>Банк, номер</th>\n",
              "      <th>Назва банку</th>\n",
              "      <th>Капітал та резерви до загальної суми активів</th>\n",
              "      <th>Частка грошових коштів та їх еквівалентів у сукупних активах</th>\n",
              "      <th>Співвідношення кредитів та депозитів</th>\n",
              "      <th>Співвідношення кредитів до загальної суми активів</th>\n",
              "      <th>Співвідношення операційних витрат до загальної суми активів</th>\n",
              "      <th>Показник рентабельності активів ROA</th>\n",
              "      <th>Рентабельність капіталу ROE</th>\n",
              "      <th>Норма прибутку</th>\n",
              "      <th>Кошти клінтів/всього зобов'язань</th>\n",
              "      <th>Кредити юридичним особам/всього активи</th>\n",
              "      <th>Депозити юридичних осіб/ всього зобов'язань</th>\n",
              "      <th>Кредити фізичним особам/всього активи</th>\n",
              "      <th>Депозити фізичних осіб/ всього зобов'язань</th>\n",
              "      <th>Кредити юридичних осіб/всього кредити</th>\n",
              "      <th>Кредити юридичним особам/всього чисті активи</th>\n",
              "    </tr>\n",
              "  </thead>\n",
              "  <tbody>\n",
              "    <tr>\n",
              "      <th>0</th>\n",
              "      <td>46</td>\n",
              "      <td>АТ КБ \"ПриватБанк\"</td>\n",
              "      <td>0.391869</td>\n",
              "      <td>0.047984</td>\n",
              "      <td>0.210922</td>\n",
              "      <td>0.114242</td>\n",
              "      <td>0.006118</td>\n",
              "      <td>0.015785</td>\n",
              "      <td>0.213049</td>\n",
              "      <td>0.542360</td>\n",
              "      <td>0.899320</td>\n",
              "      <td>0.031438</td>\n",
              "      <td>0.229357</td>\n",
              "      <td>0.082804</td>\n",
              "      <td>0.669020</td>\n",
              "      <td>0.275188</td>\n",
              "      <td>0.046481</td>\n",
              "    </tr>\n",
              "    <tr>\n",
              "      <th>1</th>\n",
              "      <td>6</td>\n",
              "      <td>АТ \"Ощадбанк\"</td>\n",
              "      <td>0.171109</td>\n",
              "      <td>0.058204</td>\n",
              "      <td>0.327531</td>\n",
              "      <td>0.236407</td>\n",
              "      <td>0.012126</td>\n",
              "      <td>0.001593</td>\n",
              "      <td>0.020903</td>\n",
              "      <td>0.087346</td>\n",
              "      <td>0.888932</td>\n",
              "      <td>0.200159</td>\n",
              "      <td>0.337830</td>\n",
              "      <td>0.036248</td>\n",
              "      <td>0.527876</td>\n",
              "      <td>0.846671</td>\n",
              "      <td>0.225355</td>\n",
              "    </tr>\n",
              "    <tr>\n",
              "      <th>2</th>\n",
              "      <td>2</td>\n",
              "      <td>АТ \"Укрексімбанк\"</td>\n",
              "      <td>0.181402</td>\n",
              "      <td>0.082897</td>\n",
              "      <td>0.392126</td>\n",
              "      <td>0.201836</td>\n",
              "      <td>0.011785</td>\n",
              "      <td>0.003546</td>\n",
              "      <td>0.082205</td>\n",
              "      <td>0.263999</td>\n",
              "      <td>0.648982</td>\n",
              "      <td>0.201247</td>\n",
              "      <td>0.425501</td>\n",
              "      <td>0.000589</td>\n",
              "      <td>0.142321</td>\n",
              "      <td>0.997083</td>\n",
              "      <td>0.240652</td>\n",
              "    </tr>\n",
              "  </tbody>\n",
              "</table>\n",
              "</div>"
            ],
            "text/plain": [
              "   Банк, номер  ... Кредити юридичним особам/всього чисті активи\n",
              "0           46  ...                                     0.046481\n",
              "1            6  ...                                     0.225355\n",
              "2            2  ...                                     0.240652\n",
              "\n",
              "[3 rows x 17 columns]"
            ]
          },
          "metadata": {},
          "execution_count": 3
        }
      ]
    },
    {
      "cell_type": "code",
      "metadata": {
        "id": "7xyJTOBJ729t",
        "colab": {
          "base_uri": "https://localhost:8080/",
          "height": 1000
        },
        "outputId": "7c5c1a5c-e511-43b6-c869-d37aa2884d7e"
      },
      "source": [
        "dataset.corr()"
      ],
      "execution_count": null,
      "outputs": [
        {
          "output_type": "execute_result",
          "data": {
            "text/html": [
              "<div>\n",
              "<style scoped>\n",
              "    .dataframe tbody tr th:only-of-type {\n",
              "        vertical-align: middle;\n",
              "    }\n",
              "\n",
              "    .dataframe tbody tr th {\n",
              "        vertical-align: top;\n",
              "    }\n",
              "\n",
              "    .dataframe thead th {\n",
              "        text-align: right;\n",
              "    }\n",
              "</style>\n",
              "<table border=\"1\" class=\"dataframe\">\n",
              "  <thead>\n",
              "    <tr style=\"text-align: right;\">\n",
              "      <th></th>\n",
              "      <th>Банк, номер</th>\n",
              "      <th>Капітал та резерви до загальної суми активів</th>\n",
              "      <th>Частка грошових коштів та їх еквівалентів у сукупних активах</th>\n",
              "      <th>Співвідношення кредитів та депозитів</th>\n",
              "      <th>Співвідношення кредитів до загальної суми активів</th>\n",
              "      <th>Співвідношення операційних витрат до загальної суми активів</th>\n",
              "      <th>Показник рентабельності активів ROA</th>\n",
              "      <th>Рентабельність капіталу ROE</th>\n",
              "      <th>Норма прибутку</th>\n",
              "      <th>Кошти клінтів/всього зобов'язань</th>\n",
              "      <th>Кредити юридичним особам/всього активи</th>\n",
              "      <th>Депозити юридичних осіб/ всього зобов'язань</th>\n",
              "      <th>Кредити фізичним особам/всього активи</th>\n",
              "      <th>Депозити фізичних осіб/ всього зобов'язань</th>\n",
              "      <th>Кредити юридичних осіб/всього кредити</th>\n",
              "      <th>Кредити юридичним особам/всього чисті активи</th>\n",
              "    </tr>\n",
              "  </thead>\n",
              "  <tbody>\n",
              "    <tr>\n",
              "      <th>Банк, номер</th>\n",
              "      <td>1.000000</td>\n",
              "      <td>-0.065749</td>\n",
              "      <td>-0.022970</td>\n",
              "      <td>-0.167183</td>\n",
              "      <td>-0.272985</td>\n",
              "      <td>0.002409</td>\n",
              "      <td>-0.115283</td>\n",
              "      <td>-0.091397</td>\n",
              "      <td>0.004750</td>\n",
              "      <td>-0.199058</td>\n",
              "      <td>-0.194240</td>\n",
              "      <td>0.157622</td>\n",
              "      <td>-0.136092</td>\n",
              "      <td>-0.348335</td>\n",
              "      <td>0.008834</td>\n",
              "      <td>-0.227343</td>\n",
              "    </tr>\n",
              "    <tr>\n",
              "      <th>Капітал та резерви до загальної суми активів</th>\n",
              "      <td>-0.065749</td>\n",
              "      <td>1.000000</td>\n",
              "      <td>-0.280165</td>\n",
              "      <td>0.449745</td>\n",
              "      <td>-0.323998</td>\n",
              "      <td>-0.234801</td>\n",
              "      <td>-0.494043</td>\n",
              "      <td>-0.334966</td>\n",
              "      <td>-0.555835</td>\n",
              "      <td>-0.438203</td>\n",
              "      <td>-0.264937</td>\n",
              "      <td>-0.264117</td>\n",
              "      <td>-0.112191</td>\n",
              "      <td>-0.200057</td>\n",
              "      <td>-0.311818</td>\n",
              "      <td>-0.148490</td>\n",
              "    </tr>\n",
              "    <tr>\n",
              "      <th>Частка грошових коштів та їх еквівалентів у сукупних активах</th>\n",
              "      <td>-0.022970</td>\n",
              "      <td>-0.280165</td>\n",
              "      <td>1.000000</td>\n",
              "      <td>-0.201687</td>\n",
              "      <td>0.035229</td>\n",
              "      <td>-0.006182</td>\n",
              "      <td>-0.008834</td>\n",
              "      <td>-0.054297</td>\n",
              "      <td>-0.011149</td>\n",
              "      <td>0.338351</td>\n",
              "      <td>0.145776</td>\n",
              "      <td>0.255093</td>\n",
              "      <td>-0.155548</td>\n",
              "      <td>0.103268</td>\n",
              "      <td>0.288176</td>\n",
              "      <td>0.078432</td>\n",
              "    </tr>\n",
              "    <tr>\n",
              "      <th>Співвідношення кредитів та депозитів</th>\n",
              "      <td>-0.167183</td>\n",
              "      <td>0.449745</td>\n",
              "      <td>-0.201687</td>\n",
              "      <td>1.000000</td>\n",
              "      <td>-0.117643</td>\n",
              "      <td>-0.209292</td>\n",
              "      <td>-0.051300</td>\n",
              "      <td>-0.073416</td>\n",
              "      <td>-0.016060</td>\n",
              "      <td>-0.410353</td>\n",
              "      <td>-0.086271</td>\n",
              "      <td>-0.267066</td>\n",
              "      <td>-0.054974</td>\n",
              "      <td>-0.168792</td>\n",
              "      <td>0.088221</td>\n",
              "      <td>0.162647</td>\n",
              "    </tr>\n",
              "    <tr>\n",
              "      <th>Співвідношення кредитів до загальної суми активів</th>\n",
              "      <td>-0.272985</td>\n",
              "      <td>-0.323998</td>\n",
              "      <td>0.035229</td>\n",
              "      <td>-0.117643</td>\n",
              "      <td>1.000000</td>\n",
              "      <td>0.434666</td>\n",
              "      <td>0.167560</td>\n",
              "      <td>0.052329</td>\n",
              "      <td>0.086631</td>\n",
              "      <td>0.456692</td>\n",
              "      <td>0.772123</td>\n",
              "      <td>-0.126821</td>\n",
              "      <td>0.411653</td>\n",
              "      <td>0.600687</td>\n",
              "      <td>0.071858</td>\n",
              "      <td>0.724417</td>\n",
              "    </tr>\n",
              "    <tr>\n",
              "      <th>Співвідношення операційних витрат до загальної суми активів</th>\n",
              "      <td>0.002409</td>\n",
              "      <td>-0.234801</td>\n",
              "      <td>-0.006182</td>\n",
              "      <td>-0.209292</td>\n",
              "      <td>0.434666</td>\n",
              "      <td>1.000000</td>\n",
              "      <td>-0.160383</td>\n",
              "      <td>-0.084925</td>\n",
              "      <td>-0.270783</td>\n",
              "      <td>0.104449</td>\n",
              "      <td>0.169867</td>\n",
              "      <td>-0.419123</td>\n",
              "      <td>0.416635</td>\n",
              "      <td>0.513729</td>\n",
              "      <td>-0.154700</td>\n",
              "      <td>0.106935</td>\n",
              "    </tr>\n",
              "    <tr>\n",
              "      <th>Показник рентабельності активів ROA</th>\n",
              "      <td>-0.115283</td>\n",
              "      <td>-0.494043</td>\n",
              "      <td>-0.008834</td>\n",
              "      <td>-0.051300</td>\n",
              "      <td>0.167560</td>\n",
              "      <td>-0.160383</td>\n",
              "      <td>1.000000</td>\n",
              "      <td>0.822175</td>\n",
              "      <td>0.869453</td>\n",
              "      <td>0.193093</td>\n",
              "      <td>-0.029586</td>\n",
              "      <td>0.127729</td>\n",
              "      <td>0.296948</td>\n",
              "      <td>0.078788</td>\n",
              "      <td>0.046463</td>\n",
              "      <td>-0.022527</td>\n",
              "    </tr>\n",
              "    <tr>\n",
              "      <th>Рентабельність капіталу ROE</th>\n",
              "      <td>-0.091397</td>\n",
              "      <td>-0.334966</td>\n",
              "      <td>-0.054297</td>\n",
              "      <td>-0.073416</td>\n",
              "      <td>0.052329</td>\n",
              "      <td>-0.084925</td>\n",
              "      <td>0.822175</td>\n",
              "      <td>1.000000</td>\n",
              "      <td>0.641819</td>\n",
              "      <td>0.176749</td>\n",
              "      <td>-0.209264</td>\n",
              "      <td>0.092881</td>\n",
              "      <td>0.379594</td>\n",
              "      <td>0.094982</td>\n",
              "      <td>-0.172578</td>\n",
              "      <td>-0.211853</td>\n",
              "    </tr>\n",
              "    <tr>\n",
              "      <th>Норма прибутку</th>\n",
              "      <td>0.004750</td>\n",
              "      <td>-0.555835</td>\n",
              "      <td>-0.011149</td>\n",
              "      <td>-0.016060</td>\n",
              "      <td>0.086631</td>\n",
              "      <td>-0.270783</td>\n",
              "      <td>0.869453</td>\n",
              "      <td>0.641819</td>\n",
              "      <td>1.000000</td>\n",
              "      <td>0.066090</td>\n",
              "      <td>0.044470</td>\n",
              "      <td>0.145061</td>\n",
              "      <td>0.067814</td>\n",
              "      <td>-0.074037</td>\n",
              "      <td>0.251934</td>\n",
              "      <td>0.075489</td>\n",
              "    </tr>\n",
              "    <tr>\n",
              "      <th>Кошти клінтів/всього зобов'язань</th>\n",
              "      <td>-0.199058</td>\n",
              "      <td>-0.438203</td>\n",
              "      <td>0.338351</td>\n",
              "      <td>-0.410353</td>\n",
              "      <td>0.456692</td>\n",
              "      <td>0.104449</td>\n",
              "      <td>0.193093</td>\n",
              "      <td>0.176749</td>\n",
              "      <td>0.066090</td>\n",
              "      <td>1.000000</td>\n",
              "      <td>0.293451</td>\n",
              "      <td>0.511443</td>\n",
              "      <td>0.272856</td>\n",
              "      <td>0.546776</td>\n",
              "      <td>-0.026906</td>\n",
              "      <td>0.189197</td>\n",
              "    </tr>\n",
              "    <tr>\n",
              "      <th>Кредити юридичним особам/всього активи</th>\n",
              "      <td>-0.194240</td>\n",
              "      <td>-0.264937</td>\n",
              "      <td>0.145776</td>\n",
              "      <td>-0.086271</td>\n",
              "      <td>0.772123</td>\n",
              "      <td>0.169867</td>\n",
              "      <td>-0.029586</td>\n",
              "      <td>-0.209264</td>\n",
              "      <td>0.044470</td>\n",
              "      <td>0.293451</td>\n",
              "      <td>1.000000</td>\n",
              "      <td>0.097044</td>\n",
              "      <td>-0.261286</td>\n",
              "      <td>0.208327</td>\n",
              "      <td>0.549374</td>\n",
              "      <td>0.961368</td>\n",
              "    </tr>\n",
              "    <tr>\n",
              "      <th>Депозити юридичних осіб/ всього зобов'язань</th>\n",
              "      <td>0.157622</td>\n",
              "      <td>-0.264117</td>\n",
              "      <td>0.255093</td>\n",
              "      <td>-0.267066</td>\n",
              "      <td>-0.126821</td>\n",
              "      <td>-0.419123</td>\n",
              "      <td>0.127729</td>\n",
              "      <td>0.092881</td>\n",
              "      <td>0.145061</td>\n",
              "      <td>0.511443</td>\n",
              "      <td>0.097044</td>\n",
              "      <td>1.000000</td>\n",
              "      <td>-0.331809</td>\n",
              "      <td>-0.437894</td>\n",
              "      <td>0.278392</td>\n",
              "      <td>0.013622</td>\n",
              "    </tr>\n",
              "    <tr>\n",
              "      <th>Кредити фізичним особам/всього активи</th>\n",
              "      <td>-0.136092</td>\n",
              "      <td>-0.112191</td>\n",
              "      <td>-0.155548</td>\n",
              "      <td>-0.054974</td>\n",
              "      <td>0.411653</td>\n",
              "      <td>0.416635</td>\n",
              "      <td>0.296948</td>\n",
              "      <td>0.379594</td>\n",
              "      <td>0.067814</td>\n",
              "      <td>0.272856</td>\n",
              "      <td>-0.261286</td>\n",
              "      <td>-0.331809</td>\n",
              "      <td>1.000000</td>\n",
              "      <td>0.613659</td>\n",
              "      <td>-0.678715</td>\n",
              "      <td>-0.278347</td>\n",
              "    </tr>\n",
              "    <tr>\n",
              "      <th>Депозити фізичних осіб/ всього зобов'язань</th>\n",
              "      <td>-0.348335</td>\n",
              "      <td>-0.200057</td>\n",
              "      <td>0.103268</td>\n",
              "      <td>-0.168792</td>\n",
              "      <td>0.600687</td>\n",
              "      <td>0.513729</td>\n",
              "      <td>0.078788</td>\n",
              "      <td>0.094982</td>\n",
              "      <td>-0.074037</td>\n",
              "      <td>0.546776</td>\n",
              "      <td>0.208327</td>\n",
              "      <td>-0.437894</td>\n",
              "      <td>0.613659</td>\n",
              "      <td>1.000000</td>\n",
              "      <td>-0.306121</td>\n",
              "      <td>0.180019</td>\n",
              "    </tr>\n",
              "    <tr>\n",
              "      <th>Кредити юридичних осіб/всього кредити</th>\n",
              "      <td>0.008834</td>\n",
              "      <td>-0.311818</td>\n",
              "      <td>0.288176</td>\n",
              "      <td>0.088221</td>\n",
              "      <td>0.071858</td>\n",
              "      <td>-0.154700</td>\n",
              "      <td>0.046463</td>\n",
              "      <td>-0.172578</td>\n",
              "      <td>0.251934</td>\n",
              "      <td>-0.026906</td>\n",
              "      <td>0.549374</td>\n",
              "      <td>0.278392</td>\n",
              "      <td>-0.678715</td>\n",
              "      <td>-0.306121</td>\n",
              "      <td>1.000000</td>\n",
              "      <td>0.574667</td>\n",
              "    </tr>\n",
              "    <tr>\n",
              "      <th>Кредити юридичним особам/всього чисті активи</th>\n",
              "      <td>-0.227343</td>\n",
              "      <td>-0.148490</td>\n",
              "      <td>0.078432</td>\n",
              "      <td>0.162647</td>\n",
              "      <td>0.724417</td>\n",
              "      <td>0.106935</td>\n",
              "      <td>-0.022527</td>\n",
              "      <td>-0.211853</td>\n",
              "      <td>0.075489</td>\n",
              "      <td>0.189197</td>\n",
              "      <td>0.961368</td>\n",
              "      <td>0.013622</td>\n",
              "      <td>-0.278347</td>\n",
              "      <td>0.180019</td>\n",
              "      <td>0.574667</td>\n",
              "      <td>1.000000</td>\n",
              "    </tr>\n",
              "  </tbody>\n",
              "</table>\n",
              "</div>"
            ],
            "text/plain": [
              "                                                    Банк, номер  ...  Кредити юридичним особам/всього чисті активи\n",
              "Банк, номер                                            1.000000  ...                                     -0.227343\n",
              "Капітал та резерви до загальної суми активів          -0.065749  ...                                     -0.148490\n",
              "Частка грошових коштів та їх еквівалентів у сук...    -0.022970  ...                                      0.078432\n",
              "Співвідношення кредитів та депозитів                  -0.167183  ...                                      0.162647\n",
              "Співвідношення кредитів до загальної суми активів     -0.272985  ...                                      0.724417\n",
              "Співвідношення операційних витрат до загальної ...     0.002409  ...                                      0.106935\n",
              "Показник рентабельності активів ROA                   -0.115283  ...                                     -0.022527\n",
              "Рентабельність капіталу ROE                           -0.091397  ...                                     -0.211853\n",
              "Норма прибутку                                         0.004750  ...                                      0.075489\n",
              "Кошти клінтів/всього зобов'язань                      -0.199058  ...                                      0.189197\n",
              "Кредити юридичним особам/всього активи                -0.194240  ...                                      0.961368\n",
              "Депозити юридичних осіб/ всього зобов'язань            0.157622  ...                                      0.013622\n",
              "Кредити фізичним особам/всього активи                 -0.136092  ...                                     -0.278347\n",
              "Депозити фізичних осіб/ всього зобов'язань            -0.348335  ...                                      0.180019\n",
              "Кредити юридичних осіб/всього кредити                  0.008834  ...                                      0.574667\n",
              "Кредити юридичним особам/всього чисті активи          -0.227343  ...                                      1.000000\n",
              "\n",
              "[16 rows x 16 columns]"
            ]
          },
          "metadata": {},
          "execution_count": 4
        }
      ]
    },
    {
      "cell_type": "code",
      "metadata": {
        "id": "sT2WqpnVd69V"
      },
      "source": [
        "dataset.iloc[:,[-3,-7,-8,-9,-10,-11,-12,-13,-14,-15,-16,-17]].describe().iloc[1:,:].to_excel('desc_stat.xlsx')"
      ],
      "execution_count": null,
      "outputs": []
    },
    {
      "cell_type": "code",
      "metadata": {
        "id": "rMgugcmOf4cz"
      },
      "source": [
        "dataset = dataset[dataset[\"Банк, номер\"] != 593]\n",
        "dataset = dataset[dataset[\"Банк, номер\"] != 129]\n",
        "dataset = dataset[dataset[\"Банк, номер\"] != 313]"
      ],
      "execution_count": null,
      "outputs": []
    },
    {
      "cell_type": "code",
      "metadata": {
        "colab": {
          "base_uri": "https://localhost:8080/",
          "height": 313
        },
        "id": "T18FkLWcFPRr",
        "outputId": "64c9f131-4240-44e1-e2a0-060febdb96dc"
      },
      "source": [
        "dataset[dataset[\"Депозити фізичних осіб/ всього зобов'язань\"] == 0]"
      ],
      "execution_count": null,
      "outputs": [
        {
          "output_type": "execute_result",
          "data": {
            "text/html": [
              "<div>\n",
              "<style scoped>\n",
              "    .dataframe tbody tr th:only-of-type {\n",
              "        vertical-align: middle;\n",
              "    }\n",
              "\n",
              "    .dataframe tbody tr th {\n",
              "        vertical-align: top;\n",
              "    }\n",
              "\n",
              "    .dataframe thead th {\n",
              "        text-align: right;\n",
              "    }\n",
              "</style>\n",
              "<table border=\"1\" class=\"dataframe\">\n",
              "  <thead>\n",
              "    <tr style=\"text-align: right;\">\n",
              "      <th></th>\n",
              "      <th>Банк, номер</th>\n",
              "      <th>Назва банку</th>\n",
              "      <th>Капітал та резерви до загальної суми активів</th>\n",
              "      <th>Частка грошових коштів та їх еквівалентів у сукупних активах</th>\n",
              "      <th>Співвідношення кредитів та депозитів</th>\n",
              "      <th>Співвідношення кредитів до загальної суми активів</th>\n",
              "      <th>Співвідношення операційних витрат до загальної суми активів</th>\n",
              "      <th>Показник рентабельності активів ROA</th>\n",
              "      <th>Рентабельність капіталу ROE</th>\n",
              "      <th>Норма прибутку</th>\n",
              "      <th>Кошти клінтів/всього зобов'язань</th>\n",
              "      <th>Кредити юридичним особам/всього активи</th>\n",
              "      <th>Депозити юридичних осіб/ всього зобов'язань</th>\n",
              "      <th>Кредити фізичним особам/всього активи</th>\n",
              "      <th>Депозити фізичних осіб/ всього зобов'язань</th>\n",
              "      <th>Кредити юридичних осіб/всього кредити</th>\n",
              "      <th>Кредити юридичним особам/всього чисті активи</th>\n",
              "    </tr>\n",
              "  </thead>\n",
              "  <tbody>\n",
              "    <tr>\n",
              "      <th>15</th>\n",
              "      <td>295</td>\n",
              "      <td>АТ \"ІНГ Банк Україна\"</td>\n",
              "      <td>0.139208</td>\n",
              "      <td>0.073679</td>\n",
              "      <td>0.764297</td>\n",
              "      <td>0.501237</td>\n",
              "      <td>0.005006</td>\n",
              "      <td>0.007088</td>\n",
              "      <td>0.02429</td>\n",
              "      <td>0.342014</td>\n",
              "      <td>0.928749</td>\n",
              "      <td>0.501237</td>\n",
              "      <td>0.928749</td>\n",
              "      <td>0.0</td>\n",
              "      <td>0.0</td>\n",
              "      <td>1.0</td>\n",
              "      <td>0.502270</td>\n",
              "    </tr>\n",
              "    <tr>\n",
              "      <th>18</th>\n",
              "      <td>407</td>\n",
              "      <td>АТ \"Дойче Банк ДБУ\"</td>\n",
              "      <td>0.071543</td>\n",
              "      <td>0.073224</td>\n",
              "      <td>0.089543</td>\n",
              "      <td>0.081247</td>\n",
              "      <td>0.009242</td>\n",
              "      <td>0.002766</td>\n",
              "      <td>0.03687</td>\n",
              "      <td>0.203757</td>\n",
              "      <td>0.981205</td>\n",
              "      <td>0.081247</td>\n",
              "      <td>0.981205</td>\n",
              "      <td>0.0</td>\n",
              "      <td>0.0</td>\n",
              "      <td>1.0</td>\n",
              "      <td>0.081266</td>\n",
              "    </tr>\n",
              "  </tbody>\n",
              "</table>\n",
              "</div>"
            ],
            "text/plain": [
              "    Банк, номер  ... Кредити юридичним особам/всього чисті активи\n",
              "15          295  ...                                     0.502270\n",
              "18          407  ...                                     0.081266\n",
              "\n",
              "[2 rows x 17 columns]"
            ]
          },
          "metadata": {},
          "execution_count": 6
        }
      ]
    },
    {
      "cell_type": "code",
      "metadata": {
        "colab": {
          "base_uri": "https://localhost:8080/",
          "height": 414
        },
        "id": "R0Y4f3SkuiDy",
        "outputId": "f42efdee-01c6-41c8-bf29-8586325c843c"
      },
      "source": [
        "dataset.iloc[:,[-3,-2]]"
      ],
      "execution_count": null,
      "outputs": [
        {
          "output_type": "execute_result",
          "data": {
            "text/html": [
              "<div>\n",
              "<style scoped>\n",
              "    .dataframe tbody tr th:only-of-type {\n",
              "        vertical-align: middle;\n",
              "    }\n",
              "\n",
              "    .dataframe tbody tr th {\n",
              "        vertical-align: top;\n",
              "    }\n",
              "\n",
              "    .dataframe thead th {\n",
              "        text-align: right;\n",
              "    }\n",
              "</style>\n",
              "<table border=\"1\" class=\"dataframe\">\n",
              "  <thead>\n",
              "    <tr style=\"text-align: right;\">\n",
              "      <th></th>\n",
              "      <th>Депозити фізичних осіб/ всього зобов'язань</th>\n",
              "      <th>Кредити юридичних осіб/всього кредити</th>\n",
              "    </tr>\n",
              "  </thead>\n",
              "  <tbody>\n",
              "    <tr>\n",
              "      <th>0</th>\n",
              "      <td>0.669020</td>\n",
              "      <td>0.275188</td>\n",
              "    </tr>\n",
              "    <tr>\n",
              "      <th>1</th>\n",
              "      <td>0.527876</td>\n",
              "      <td>0.846671</td>\n",
              "    </tr>\n",
              "    <tr>\n",
              "      <th>2</th>\n",
              "      <td>0.142321</td>\n",
              "      <td>0.997083</td>\n",
              "    </tr>\n",
              "    <tr>\n",
              "      <th>3</th>\n",
              "      <td>0.251991</td>\n",
              "      <td>0.916723</td>\n",
              "    </tr>\n",
              "    <tr>\n",
              "      <th>5</th>\n",
              "      <td>0.351377</td>\n",
              "      <td>0.880641</td>\n",
              "    </tr>\n",
              "    <tr>\n",
              "      <th>...</th>\n",
              "      <td>...</td>\n",
              "      <td>...</td>\n",
              "    </tr>\n",
              "    <tr>\n",
              "      <th>67</th>\n",
              "      <td>0.463656</td>\n",
              "      <td>0.554430</td>\n",
              "    </tr>\n",
              "    <tr>\n",
              "      <th>69</th>\n",
              "      <td>0.023276</td>\n",
              "      <td>0.848953</td>\n",
              "    </tr>\n",
              "    <tr>\n",
              "      <th>70</th>\n",
              "      <td>0.218389</td>\n",
              "      <td>0.981839</td>\n",
              "    </tr>\n",
              "    <tr>\n",
              "      <th>71</th>\n",
              "      <td>0.310389</td>\n",
              "      <td>0.902661</td>\n",
              "    </tr>\n",
              "    <tr>\n",
              "      <th>72</th>\n",
              "      <td>0.063403</td>\n",
              "      <td>0.917709</td>\n",
              "    </tr>\n",
              "  </tbody>\n",
              "</table>\n",
              "<p>70 rows × 2 columns</p>\n",
              "</div>"
            ],
            "text/plain": [
              "    Депозити фізичних осіб/ всього зобов'язань  Кредити юридичних осіб/всього кредити\n",
              "0                                     0.669020                               0.275188\n",
              "1                                     0.527876                               0.846671\n",
              "2                                     0.142321                               0.997083\n",
              "3                                     0.251991                               0.916723\n",
              "5                                     0.351377                               0.880641\n",
              "..                                         ...                                    ...\n",
              "67                                    0.463656                               0.554430\n",
              "69                                    0.023276                               0.848953\n",
              "70                                    0.218389                               0.981839\n",
              "71                                    0.310389                               0.902661\n",
              "72                                    0.063403                               0.917709\n",
              "\n",
              "[70 rows x 2 columns]"
            ]
          },
          "metadata": {},
          "execution_count": 7
        }
      ]
    },
    {
      "cell_type": "code",
      "metadata": {
        "id": "myoth00yd6_0"
      },
      "source": [
        "X = dataset.iloc[:,[-3,-2]].values"
      ],
      "execution_count": null,
      "outputs": []
    },
    {
      "cell_type": "code",
      "metadata": {
        "colab": {
          "base_uri": "https://localhost:8080/",
          "height": 296
        },
        "id": "i7Vj7a7Ad7Eb",
        "outputId": "d5766fc0-d346-4065-d322-dfe1c06eaba5"
      },
      "source": [
        "from sklearn.cluster import KMeans\n",
        "wcss = []\n",
        "for i in range(1, 11):\n",
        "    kmeans = KMeans(n_clusters = i, init = 'k-means++', random_state = 42)\n",
        "    kmeans.fit(X)\n",
        "    wcss.append(kmeans.inertia_)\n",
        "plt.plot(range(1, 11), wcss)\n",
        "# plt.title('Метод ліктя')\n",
        "plt.xlabel('Number of clusters')\n",
        "plt.ylabel('Sum of distances')\n",
        "plt.figure(figsize=(18, 12), dpi=1600)\n",
        "plt.show()"
      ],
      "execution_count": null,
      "outputs": [
        {
          "output_type": "display_data",
          "data": {
            "image/png": "[encoded data removed]",
            "text/plain": [
              "<Figure size 432x288 with 1 Axes>"
            ]
          },
          "metadata": {
            "needs_background": "light"
          }
        },
        {
          "output_type": "display_data",
          "data": {
            "text/plain": [
              "<Figure size 28800x19200 with 0 Axes>"
            ]
          },
          "metadata": {}
        }
      ]
    },
    {
      "cell_type": "code",
      "metadata": {
        "colab": {
          "base_uri": "https://localhost:8080/"
        },
        "id": "qSsP0CxNfq4U",
        "outputId": "f8ce1696-ef74-4084-f7d3-2bce2ee630c5"
      },
      "source": [
        "def def_n_k(wcss_list):\n",
        "  # функция для автоматического вычесления оптимального количества кластеров\n",
        "  #wcss_list - список сумм расстояний до центриля\n",
        "  list_per = []\n",
        "  list_per.append(1)\n",
        "  for i in range(1, len(wcss_list)):\n",
        "    list_per.append(wcss[i]/wcss[i-1])\n",
        "  list_per_razn = []\n",
        "  for i in range(1, len(wcss_list)):\n",
        "    try:\n",
        "      list_per_razn.append(math.fabs(list_per[i-1] - list_per[i+1]))\n",
        "    except:\n",
        "      pass\n",
        "  return list_per_razn.index(heapq.nlargest(2, list_per_razn)[-1])+1\n",
        "def_n_k(wcss)"
      ],
      "execution_count": null,
      "outputs": [
        {
          "output_type": "execute_result",
          "data": {
            "text/plain": [
              "4"
            ]
          },
          "metadata": {},
          "execution_count": 11
        }
      ]
    },
    {
      "cell_type": "code",
      "metadata": {
        "colab": {
          "base_uri": "https://localhost:8080/",
          "height": 314
        },
        "id": "YGLVkWHWiOUq",
        "outputId": "453afe42-b0e3-418a-a658-e4818ca8e107"
      },
      "source": [
        "import scipy.cluster.hierarchy as sch\n",
        "dendrogram = sch.dendrogram(sch.linkage(X, method = 'ward'))\n",
        "plt.title('Дендрограма')\n",
        "plt.xlabel('Банки')\n",
        "plt.ylabel('Евклідова відстань')\n",
        "plt.figure(figsize=(18, 12), dpi=1600)\n",
        "plt.show()"
      ],
      "execution_count": null,
      "outputs": [
        {
          "output_type": "display_data",
          "data": {
            "image/png": "[encoded data removed]",
            "text/plain": [
              "<Figure size 432x288 with 1 Axes>"
            ]
          },
          "metadata": {}
        },
        {
          "output_type": "display_data",
          "data": {
            "text/plain": [
              "<Figure size 28800x19200 with 0 Axes>"
            ]
          },
          "metadata": {}
        }
      ]
    },
    {
      "cell_type": "code",
      "metadata": {
        "id": "WbNs56-vf4E6"
      },
      "source": [
        "kmeans = KMeans(n_clusters = 4, init = 'k-means++', random_state = 42)\n",
        "y_kmeans = kmeans.fit_predict(X)"
      ],
      "execution_count": null,
      "outputs": []
    },
    {
      "cell_type": "code",
      "metadata": {
        "id": "wj59lx5y0qN0"
      },
      "source": [
        "dataset"
      ],
      "execution_count": null,
      "outputs": []
    },
    {
      "cell_type": "code",
      "metadata": {
        "colab": {
          "base_uri": "https://localhost:8080/"
        },
        "id": "M8O4omHVhr4W",
        "outputId": "d8c65128-4014-4985-b151-df518a69dc3d"
      },
      "source": [
        "dataset[y_kmeans == 0][\"Кредити юридичних осіб/всього кредити\"].mean(), dataset[y_kmeans == 0][\"Депозити фізичних осіб/ всього зобов'язань\"].mean()\n"
      ],
      "execution_count": null,
      "outputs": [
        {
          "output_type": "execute_result",
          "data": {
            "text/plain": [
              "(0.9393827688033712, 0.13661640526027477)"
            ]
          },
          "metadata": {
            "tags": []
          },
          "execution_count": 13
        }
      ]
    },
    {
      "cell_type": "code",
      "metadata": {
        "colab": {
          "base_uri": "https://localhost:8080/"
        },
        "id": "ObAkGiH97Ov_",
        "outputId": "e1ec7873-6ed8-46cd-e833-ffaa55ecb362"
      },
      "source": [
        "dataset[y_kmeans == 1][\"Кредити юридичних осіб/всього кредити\"].mean(), dataset[y_kmeans == 1][\"Депозити фізичних осіб/ всього зобов'язань\"].mean()\n"
      ],
      "execution_count": null,
      "outputs": [
        {
          "output_type": "execute_result",
          "data": {
            "text/plain": [
              "(0.12276211283224939, 0.7677151038956446)"
            ]
          },
          "metadata": {
            "tags": []
          },
          "execution_count": 17
        }
      ]
    },
    {
      "cell_type": "code",
      "metadata": {
        "colab": {
          "base_uri": "https://localhost:8080/"
        },
        "id": "59LCF9V9hsCj",
        "outputId": "8618c91e-4032-49da-8f74-b4c740bbac0b"
      },
      "source": [
        "dataset[y_kmeans == 2][\"Кредити юридичних осіб/всього кредити\"].mean(), dataset[y_kmeans == 2][\"Депозити фізичних осіб/ всього зобов'язань\"].mean()\n"
      ],
      "execution_count": null,
      "outputs": [
        {
          "output_type": "execute_result",
          "data": {
            "text/plain": [
              "(0.9420526912464985, 0.4311977735826625)"
            ]
          },
          "metadata": {
            "tags": []
          },
          "execution_count": 18
        }
      ]
    },
    {
      "cell_type": "code",
      "metadata": {
        "colab": {
          "base_uri": "https://localhost:8080/"
        },
        "id": "e5MYlLrfBek0",
        "outputId": "ca2b376c-fd8f-4772-ebc8-7bc76ee949b7"
      },
      "source": [
        "dataset[y_kmeans == 3][\"Кредити юридичних осіб/всього кредити\"].mean(), dataset[y_kmeans == 3][\"Депозити фізичних осіб/ всього зобов'язань\"].mean()"
      ],
      "execution_count": null,
      "outputs": [
        {
          "output_type": "execute_result",
          "data": {
            "text/plain": [
              "(0.6088805344696033, 0.3897253447556241)"
            ]
          },
          "metadata": {
            "tags": []
          },
          "execution_count": 19
        }
      ]
    },
    {
      "cell_type": "markdown",
      "metadata": {
        "id": "PPULBZ5v78Rp"
      },
      "source": [
        "0 - роздрібна\n",
        "1 - корпоративна\n",
        "2 - універсальна"
      ]
    },
    {
      "cell_type": "code",
      "metadata": {
        "id": "kXqFqWEXiyEP"
      },
      "source": [
        "dataset['clasters'] = y_kmeans"
      ],
      "execution_count": null,
      "outputs": []
    },
    {
      "cell_type": "code",
      "metadata": {
        "id": "-yoyYbsR8NGt"
      },
      "source": [
        "dataset['clasters'] = dataset['clasters'].replace([1, 0, 3, 2], ['Роздрібна бізнес-модель', 'Корпоративна бізнес-модель', 'Універсальна бізнес-модель', 'Корпоративна з роздрібним фін.'])"
      ],
      "execution_count": null,
      "outputs": []
    },
    {
      "cell_type": "code",
      "metadata": {
        "id": "zhQ5MrUPPSyo"
      },
      "source": [
        "#ENG\n",
        "dataset['clasters'] = dataset['clasters'].replace([1, 0, 3, 2], ['Retail business model', 'Corporate business model', 'Universal business model', 'Corporate business model with retail f.'])"
      ],
      "execution_count": null,
      "outputs": []
    },
    {
      "cell_type": "code",
      "metadata": {
        "colab": {
          "base_uri": "https://localhost:8080/",
          "height": 215
        },
        "id": "KfYWsNiSzBpZ",
        "outputId": "4f9924f4-8a11-4582-9fa0-94a45313533f"
      },
      "source": [
        "dataset[dataset[\"Депозити фізичних осіб/ всього зобов'язань\"] > 0.9]"
      ],
      "execution_count": null,
      "outputs": [
        {
          "output_type": "execute_result",
          "data": {
            "text/html": [
              "<div>\n",
              "<style scoped>\n",
              "    .dataframe tbody tr th:only-of-type {\n",
              "        vertical-align: middle;\n",
              "    }\n",
              "\n",
              "    .dataframe tbody tr th {\n",
              "        vertical-align: top;\n",
              "    }\n",
              "\n",
              "    .dataframe thead th {\n",
              "        text-align: right;\n",
              "    }\n",
              "</style>\n",
              "<table border=\"1\" class=\"dataframe\">\n",
              "  <thead>\n",
              "    <tr style=\"text-align: right;\">\n",
              "      <th></th>\n",
              "      <th>Банк, номер</th>\n",
              "      <th>Назва банку</th>\n",
              "      <th>Капітал та резерви до загальної суми активів</th>\n",
              "      <th>Частка грошових коштів та їх еквівалентів у сукупних активах</th>\n",
              "      <th>Співвідношення кредитів та депозитів</th>\n",
              "      <th>Співвідношення кредитів до загальної суми активів</th>\n",
              "      <th>Співвідношення операційних витрат до загальної суми активів</th>\n",
              "      <th>Показник рентабельності активів ROA</th>\n",
              "      <th>Рентабельність капіталу ROE</th>\n",
              "      <th>Норма прибутку</th>\n",
              "      <th>Кошти клінтів/всього зобов'язань</th>\n",
              "      <th>Кредити юридичним особам/всього активи</th>\n",
              "      <th>Депозити юридичних осіб/ всього зобов'язань</th>\n",
              "      <th>Кредити фізичним особам/всього активи</th>\n",
              "      <th>Депозити фізичних осіб/ всього зобов'язань</th>\n",
              "      <th>Кредити юридичних осіб/всього кредити</th>\n",
              "      <th>Кредити юридичним особам/всього чисті активи</th>\n",
              "      <th>clasters</th>\n",
              "    </tr>\n",
              "  </thead>\n",
              "  <tbody>\n",
              "    <tr>\n",
              "      <th>20</th>\n",
              "      <td>325</td>\n",
              "      <td>АТ \"БАНК ФОРВАРД\"</td>\n",
              "      <td>0.448027</td>\n",
              "      <td>0.035789</td>\n",
              "      <td>0.827814</td>\n",
              "      <td>0.615015</td>\n",
              "      <td>0.031397</td>\n",
              "      <td>0.005341</td>\n",
              "      <td>0.036619</td>\n",
              "      <td>0.053309</td>\n",
              "      <td>0.939672</td>\n",
              "      <td>0.044653</td>\n",
              "      <td>0.012205</td>\n",
              "      <td>0.570362</td>\n",
              "      <td>0.927467</td>\n",
              "      <td>0.072605</td>\n",
              "      <td>0.047681</td>\n",
              "      <td>Роздрібний сектор</td>\n",
              "    </tr>\n",
              "  </tbody>\n",
              "</table>\n",
              "</div>"
            ],
            "text/plain": [
              "    Банк, номер  ...           clasters\n",
              "20          325  ...  Роздрібний сектор\n",
              "\n",
              "[1 rows x 18 columns]"
            ]
          },
          "metadata": {
            "tags": []
          },
          "execution_count": 92
        }
      ]
    },
    {
      "cell_type": "code",
      "metadata": {
        "colab": {
          "base_uri": "https://localhost:8080/"
        },
        "id": "_1UvTp8BXwTg",
        "outputId": "689d91ad-4435-4c20-959a-c0cc5d1ea8e0"
      },
      "source": [
        "dataset.iloc[:,[-4,-3,-1]][\"Депозити фізичних осіб/ всього зобов'язань\"].max()"
      ],
      "execution_count": null,
      "outputs": [
        {
          "output_type": "execute_result",
          "data": {
            "text/plain": [
              "0.9274670486022397"
            ]
          },
          "metadata": {
            "tags": []
          },
          "execution_count": 23
        }
      ]
    },
    {
      "cell_type": "code",
      "metadata": {
        "colab": {
          "base_uri": "https://localhost:8080/"
        },
        "id": "fqarz_ODzgo9",
        "outputId": "09e1d474-0ff2-4dcc-fd54-4c640a9f32c5"
      },
      "source": [
        "dataset.iloc[:,[-4,-3,-1]][\"Депозити фізичних осіб/ всього зобов'язань\"].sort_values(ascending=False)"
      ],
      "execution_count": null,
      "outputs": [
        {
          "output_type": "execute_result",
          "data": {
            "text/plain": [
              "20    9.274670e-01\n",
              "31    7.930342e-01\n",
              "62    7.863629e-01\n",
              "16    7.490178e-01\n",
              "26    7.000369e-01\n",
              "          ...     \n",
              "21    5.919376e-03\n",
              "11    3.595202e-03\n",
              "12    3.319407e-09\n",
              "15    0.000000e+00\n",
              "18    0.000000e+00\n",
              "Name: Депозити фізичних осіб/ всього зобов'язань, Length: 70, dtype: float64"
            ]
          },
          "metadata": {
            "tags": []
          },
          "execution_count": 24
        }
      ]
    },
    {
      "cell_type": "code",
      "metadata": {
        "id": "tF75-7INVt47"
      },
      "source": [
        "dataset.rename(columns={'clasters':'кластери'}, inplace=True)"
      ],
      "execution_count": null,
      "outputs": []
    },
    {
      "cell_type": "code",
      "metadata": {
        "id": "xrWYrENjQA3j"
      },
      "source": [
        "dataset.rename(columns={'кластери':'clusters'}, inplace=True)"
      ],
      "execution_count": null,
      "outputs": []
    },
    {
      "cell_type": "code",
      "metadata": {
        "id": "_nuJ4X5qP-J2"
      },
      "source": [
        "dataset"
      ],
      "execution_count": null,
      "outputs": []
    },
    {
      "cell_type": "code",
      "metadata": {
        "colab": {
          "base_uri": "https://localhost:8080/",
          "height": 743
        },
        "id": "azvEvW6mhKy_",
        "outputId": "468c6f42-e4b3-4bbb-c2f9-8d50669fcf48"
      },
      "source": [
        "# Plot\n",
        "plt.figure(figsize=(120,160), dpi= 150)\n",
        "sns.pairplot(dataset.iloc[:,[-4,-3,-1]], kind=\"reg\", hue=\"clusters\",height=5, markers=[\"o\", \"s\", \"D\", 'd'])\n",
        "plt.show()"
      ],
      "execution_count": null,
      "outputs": [
        {
          "output_type": "display_data",
          "data": {
            "text/plain": [
              "<Figure size 18000x24000 with 0 Axes>"
            ]
          },
          "metadata": {}
        },
        {
          "output_type": "display_data",
          "data": {
            "image/png": "[encoded data removed]",
            "text/plain": [
              "<Figure size 949x720 with 6 Axes>"
            ]
          },
          "metadata": {
            "needs_background": "light"
          }
        }
      ]
    },
    {
      "cell_type": "code",
      "metadata": {
        "colab": {
          "base_uri": "https://localhost:8080/",
          "height": 422
        },
        "id": "TqI9fEO8XINh",
        "outputId": "6f508775-8e88-4b9b-ac6f-a25ef418f543"
      },
      "source": [
        "dataset[dataset['clasters']=='Роздрібний сектор']"
      ],
      "execution_count": null,
      "outputs": [
        {
          "output_type": "execute_result",
          "data": {
            "text/html": [
              "<div>\n",
              "<style scoped>\n",
              "    .dataframe tbody tr th:only-of-type {\n",
              "        vertical-align: middle;\n",
              "    }\n",
              "\n",
              "    .dataframe tbody tr th {\n",
              "        vertical-align: top;\n",
              "    }\n",
              "\n",
              "    .dataframe thead th {\n",
              "        text-align: right;\n",
              "    }\n",
              "</style>\n",
              "<table border=\"1\" class=\"dataframe\">\n",
              "  <thead>\n",
              "    <tr style=\"text-align: right;\">\n",
              "      <th></th>\n",
              "      <th>Банк, номер</th>\n",
              "      <th>Назва банку</th>\n",
              "      <th>Капітал та резерви до загальної суми активів</th>\n",
              "      <th>Частка грошових коштів та їх еквівалентів у сукупних активах</th>\n",
              "      <th>Співвідношення кредитів та депозитів</th>\n",
              "      <th>Співвідношення кредитів до загальної суми активів</th>\n",
              "      <th>Співвідношення операційних витрат до загальної суми активів</th>\n",
              "      <th>Показник рентабельності активів ROA</th>\n",
              "      <th>Рентабельність капіталу ROE</th>\n",
              "      <th>Норма прибутку</th>\n",
              "      <th>Кошти клінтів/всього зобов'язань</th>\n",
              "      <th>Кредити юридичним особам/всього активи</th>\n",
              "      <th>Депозити юридичних осіб/ всього зобов'язань</th>\n",
              "      <th>Кредити фізичним особам/всього активи</th>\n",
              "      <th>Депозити фізичних осіб/ всього зобов'язань</th>\n",
              "      <th>Кредити юридичних осіб/всього кредити</th>\n",
              "      <th>Кредити юридичним особам/всього чисті активи</th>\n",
              "      <th>clasters</th>\n",
              "    </tr>\n",
              "  </thead>\n",
              "  <tbody>\n",
              "    <tr>\n",
              "      <th>0</th>\n",
              "      <td>46</td>\n",
              "      <td>АТ КБ \"ПриватБанк\"</td>\n",
              "      <td>0.391869</td>\n",
              "      <td>0.047984</td>\n",
              "      <td>0.210922</td>\n",
              "      <td>0.114242</td>\n",
              "      <td>0.006118</td>\n",
              "      <td>0.015785</td>\n",
              "      <td>0.213049</td>\n",
              "      <td>0.542360</td>\n",
              "      <td>0.899320</td>\n",
              "      <td>0.031438</td>\n",
              "      <td>0.229357</td>\n",
              "      <td>0.082804</td>\n",
              "      <td>0.669020</td>\n",
              "      <td>0.275188</td>\n",
              "      <td>0.046481</td>\n",
              "      <td>Роздрібний сектор</td>\n",
              "    </tr>\n",
              "    <tr>\n",
              "      <th>16</th>\n",
              "      <td>142</td>\n",
              "      <td>АТ \"Ідея Банк\"</td>\n",
              "      <td>0.051095</td>\n",
              "      <td>0.014644</td>\n",
              "      <td>1.107997</td>\n",
              "      <td>0.505107</td>\n",
              "      <td>0.016893</td>\n",
              "      <td>0.026953</td>\n",
              "      <td>0.224312</td>\n",
              "      <td>0.274156</td>\n",
              "      <td>0.918628</td>\n",
              "      <td>0.002325</td>\n",
              "      <td>0.169610</td>\n",
              "      <td>0.502782</td>\n",
              "      <td>0.749018</td>\n",
              "      <td>0.004603</td>\n",
              "      <td>0.003772</td>\n",
              "      <td>Роздрібний сектор</td>\n",
              "    </tr>\n",
              "    <tr>\n",
              "      <th>20</th>\n",
              "      <td>325</td>\n",
              "      <td>АТ \"БАНК ФОРВАРД\"</td>\n",
              "      <td>0.448027</td>\n",
              "      <td>0.035789</td>\n",
              "      <td>0.827814</td>\n",
              "      <td>0.615015</td>\n",
              "      <td>0.031397</td>\n",
              "      <td>0.005341</td>\n",
              "      <td>0.036619</td>\n",
              "      <td>0.053309</td>\n",
              "      <td>0.939672</td>\n",
              "      <td>0.044653</td>\n",
              "      <td>0.012205</td>\n",
              "      <td>0.570362</td>\n",
              "      <td>0.927467</td>\n",
              "      <td>0.072605</td>\n",
              "      <td>0.047681</td>\n",
              "      <td>Роздрібний сектор</td>\n",
              "    </tr>\n",
              "    <tr>\n",
              "      <th>26</th>\n",
              "      <td>242</td>\n",
              "      <td>АТ \"УНІВЕРСАЛ БАНК\"</td>\n",
              "      <td>0.089026</td>\n",
              "      <td>0.037353</td>\n",
              "      <td>0.706946</td>\n",
              "      <td>0.511606</td>\n",
              "      <td>0.016626</td>\n",
              "      <td>0.031517</td>\n",
              "      <td>0.335170</td>\n",
              "      <td>0.396234</td>\n",
              "      <td>0.862501</td>\n",
              "      <td>0.068930</td>\n",
              "      <td>0.162464</td>\n",
              "      <td>0.442677</td>\n",
              "      <td>0.700037</td>\n",
              "      <td>0.134732</td>\n",
              "      <td>0.073873</td>\n",
              "      <td>Роздрібний сектор</td>\n",
              "    </tr>\n",
              "    <tr>\n",
              "      <th>31</th>\n",
              "      <td>96</td>\n",
              "      <td>АТ \"А - БАНК\"</td>\n",
              "      <td>0.075588</td>\n",
              "      <td>0.047596</td>\n",
              "      <td>0.904495</td>\n",
              "      <td>0.663226</td>\n",
              "      <td>0.022640</td>\n",
              "      <td>0.014736</td>\n",
              "      <td>0.125227</td>\n",
              "      <td>0.154118</td>\n",
              "      <td>0.959056</td>\n",
              "      <td>0.084019</td>\n",
              "      <td>0.166022</td>\n",
              "      <td>0.579207</td>\n",
              "      <td>0.793034</td>\n",
              "      <td>0.126682</td>\n",
              "      <td>0.095234</td>\n",
              "      <td>Роздрібний сектор</td>\n",
              "    </tr>\n",
              "  </tbody>\n",
              "</table>\n",
              "</div>"
            ],
            "text/plain": [
              "    Банк, номер  ...           clasters\n",
              "0            46  ...  Роздрібний сектор\n",
              "16          142  ...  Роздрібний сектор\n",
              "20          325  ...  Роздрібний сектор\n",
              "26          242  ...  Роздрібний сектор\n",
              "31           96  ...  Роздрібний сектор\n",
              "\n",
              "[5 rows x 18 columns]"
            ]
          },
          "metadata": {
            "tags": []
          },
          "execution_count": 96
        }
      ]
    },
    {
      "cell_type": "markdown",
      "metadata": {
        "id": "fGjv8uZjCWNN"
      },
      "source": [
        "[1, 3, 2, 0], ['Роздрібний сектор', 'Корпоративний сектор', 'Універсальний', 'Корпоративний сектор з роздіб. ф'])"
      ]
    },
    {
      "cell_type": "code",
      "metadata": {
        "colab": {
          "base_uri": "https://localhost:8080/",
          "height": 296
        },
        "id": "jg4b40EX-0bs",
        "outputId": "7cc4b1cd-abbd-46a5-8101-bc00e7084a2f"
      },
      "source": [
        "plt.scatter(X[y_kmeans == 3, 0], X[y_kmeans == 3, 1], marker='o', s = 40, label = 'Universal business model')\n",
        "plt.scatter(X[y_kmeans == 2, 0], X[y_kmeans == 2, 1], marker='s', s = 20, label = 'Corporate business model with retail f.')\n",
        "plt.scatter(X[y_kmeans == 1, 0], X[y_kmeans == 1, 1], marker = 'D', s = 30, label = 'Retail business model')\n",
        "plt.scatter(X[y_kmeans == 0, 0], X[y_kmeans == 0, 1], marker = 'd', s = 30, label = 'Corporate business model')\n",
        "plt.scatter(kmeans.cluster_centers_[:, 0], kmeans.cluster_centers_[:, 1], s = 80, marker = 'p', label = 'centroid')\n",
        "# plt.title('Кластер фінансових показників банків')\n",
        "# plt.plot(markers=[\"o\", \"s\", \"D\", 'd'])\n",
        "plt.xlabel(\"Deposits of Individuals / Total Liabilities\")\n",
        "plt.ylabel(\"Deposits of Individuals / Total Liabilities\")\n",
        "plt.legend(loc='lower left', fontsize=8)\n",
        "plt.figure(figsize=(18, 12), dpi=1600)\n",
        "plt.show()"
      ],
      "execution_count": null,
      "outputs": [
        {
          "output_type": "display_data",
          "data": {
            "image/png": "[encoded data removed]",
            "text/plain": [
              "<Figure size 432x288 with 1 Axes>"
            ]
          },
          "metadata": {
            "needs_background": "light"
          }
        },
        {
          "output_type": "display_data",
          "data": {
            "text/plain": [
              "<Figure size 28800x19200 with 0 Axes>"
            ]
          },
          "metadata": {}
        }
      ]
    },
    {
      "cell_type": "markdown",
      "metadata": {
        "id": "KA0tdkcJRUpR"
      },
      "source": [
        "Ризики по кожному кластеру"
      ]
    },
    {
      "cell_type": "code",
      "metadata": {
        "id": "3bHn5W9Ur4zS",
        "colab": {
          "base_uri": "https://localhost:8080/"
        },
        "outputId": "7dff22fe-1383-4f2c-f1be-71bf15a5ae25"
      },
      "source": [
        "print(dataset[dataset['clasters'] == 'Роздрібний сектор']['Капітал та резерви до загальної суми активів '].mean())\n",
        "print(dataset[dataset['clasters'] == 'Роздрібний сектор']['Частка грошових коштів та їх еквівалентів у сукупних активах '].mean())\n",
        "print(dataset[dataset['clasters'] == 'Роздрібний сектор']['Співвідношення кредитів та депозитів '].mean())\n",
        "print(dataset[dataset['clasters'] == 'Роздрібний сектор']['Співвідношення кредитів до загальної суми активів '].mean())\n",
        "print(dataset[dataset['clasters'] == 'Роздрібний сектор']['Співвідношення операційних витрат до загальної суми активів '].mean())\n",
        "print(dataset[dataset['clasters'] == 'Роздрібний сектор']['Показник рентабельності активів ROA '].mean())\n",
        "print(dataset[dataset['clasters'] == 'Роздрібний сектор']['Рентабельність капіталу ROE '].mean())\n",
        "print(dataset[dataset['clasters'] == 'Роздрібний сектор']['Норма прибутку '].mean())\n",
        "print(dataset[dataset['clasters'] == 'Роздрібний сектор'][\"Кошти клінтів/всього зобов'язань\"].mean())"
      ],
      "execution_count": null,
      "outputs": [
        {
          "output_type": "stream",
          "text": [
            "0.21112107580993592\n",
            "0.03667285281148865\n",
            "0.7516348128714018\n",
            "0.4818390983760675\n",
            "0.01873493418177828\n",
            "0.01886637633886107\n",
            "0.18687530588630966\n",
            "0.28403551817249045\n",
            "0.9158356274377049\n"
          ],
          "name": "stdout"
        }
      ]
    },
    {
      "cell_type": "code",
      "metadata": {
        "colab": {
          "base_uri": "https://localhost:8080/"
        },
        "id": "TxCChp2iSi2J",
        "outputId": "d13942bd-556e-41ea-c2e3-af7a3cb286bd"
      },
      "source": [
        "print(dataset[dataset['clasters'] == 'Корпоративний сектор']['Капітал та резерви до загальної суми активів '].mean())\n",
        "print(dataset[dataset['clasters'] == 'Корпоративний сектор']['Частка грошових коштів та їх еквівалентів у сукупних активах '].mean())\n",
        "print(dataset[dataset['clasters'] == 'Корпоративний сектор']['Співвідношення кредитів та депозитів '].mean())\n",
        "print(dataset[dataset['clasters'] == 'Корпоративний сектор']['Співвідношення кредитів до загальної суми активів '].mean())\n",
        "print(dataset[dataset['clasters'] == 'Корпоративний сектор']['Співвідношення операційних витрат до загальної суми активів '].mean())\n",
        "print(dataset[dataset['clasters'] == 'Корпоративний сектор']['Показник рентабельності активів ROA '].mean())\n",
        "print(dataset[dataset['clasters'] == 'Корпоративний сектор']['Рентабельність капіталу ROE '].mean())\n",
        "print(dataset[dataset['clasters'] == 'Корпоративний сектор']['Норма прибутку '].mean())\n",
        "print(dataset[dataset['clasters'] == 'Корпоративний сектор'][\"Кошти клінтів/всього зобов'язань\"].mean())"
      ],
      "execution_count": null,
      "outputs": [
        {
          "output_type": "stream",
          "text": [
            "0.2396210726176576\n",
            "0.06170980445463213\n",
            "4.474813717556535\n",
            "0.2356890112479321\n",
            "0.009528372135394064\n",
            "0.006752984315201663\n",
            "0.061763351319319496\n",
            "0.2446967586674607\n",
            "0.6405021261534938\n"
          ],
          "name": "stdout"
        }
      ]
    },
    {
      "cell_type": "code",
      "metadata": {
        "colab": {
          "base_uri": "https://localhost:8080/"
        },
        "id": "2Ful5A-xTR10",
        "outputId": "d5507ef5-7729-475c-f588-595c1d1e48ed"
      },
      "source": [
        "print(dataset[dataset['clasters'] == 'Універсальний']['Капітал та резерви до загальної суми активів '].mean())\n",
        "print(dataset[dataset['clasters'] == 'Універсальний']['Частка грошових коштів та їх еквівалентів у сукупних активах '].mean())\n",
        "print(dataset[dataset['clasters'] == 'Універсальний']['Співвідношення кредитів та депозитів '].mean())\n",
        "print(dataset[dataset['clasters'] == 'Універсальний']['Співвідношення кредитів до загальної суми активів '].mean())\n",
        "print(dataset[dataset['clasters'] == 'Універсальний']['Співвідношення операційних витрат до загальної суми активів '].mean())\n",
        "print(dataset[dataset['clasters'] == 'Універсальний']['Показник рентабельності активів ROA '].mean())\n",
        "print(dataset[dataset['clasters'] == 'Універсальний']['Рентабельність капіталу ROE '].mean())\n",
        "print(dataset[dataset['clasters'] == 'Універсальний']['Норма прибутку '].mean())\n",
        "print(dataset[dataset['clasters'] == 'Універсальний'][\"Кошти клінтів/всього зобов'язань\"].mean())"
      ],
      "execution_count": null,
      "outputs": [
        {
          "output_type": "stream",
          "text": [
            "0.18477254279654545\n",
            "0.07019086571523095\n",
            "0.5768129446079621\n",
            "0.3904595612850161\n",
            "0.009837528438571774\n",
            "0.00477752396890086\n",
            "0.04821685368526716\n",
            "0.09100852600779216\n",
            "0.8563222286601256\n"
          ],
          "name": "stdout"
        }
      ]
    },
    {
      "cell_type": "code",
      "metadata": {
        "colab": {
          "base_uri": "https://localhost:8080/"
        },
        "id": "HbS0fYSOJzbq",
        "outputId": "738f393f-e11b-469d-934d-7329b0be0136"
      },
      "source": [
        "print(dataset[dataset['clasters'] == 'Корпоративний сектор з роздіб. ф']['Капітал та резерви до загальної суми активів '].mean())\n",
        "print(dataset[dataset['clasters'] == 'Корпоративний сектор з роздіб. ф']['Частка грошових коштів та їх еквівалентів у сукупних активах '].mean())\n",
        "print(dataset[dataset['clasters'] == 'Корпоративний сектор з роздіб. ф']['Співвідношення кредитів та депозитів '].mean())\n",
        "print(dataset[dataset['clasters'] == 'Корпоративний сектор з роздіб. ф']['Співвідношення кредитів до загальної суми активів '].mean())\n",
        "print(dataset[dataset['clasters'] == 'Корпоративний сектор з роздіб. ф']['Співвідношення операційних витрат до загальної суми активів '].mean())\n",
        "print(dataset[dataset['clasters'] == 'Корпоративний сектор з роздіб. ф']['Показник рентабельності активів ROA '].mean())\n",
        "print(dataset[dataset['clasters'] == 'Корпоративний сектор з роздіб. ф']['Рентабельність капіталу ROE '].mean())\n",
        "print(dataset[dataset['clasters'] == 'Корпоративний сектор з роздіб. ф']['Норма прибутку '].mean())\n",
        "print(dataset[dataset['clasters'] == 'Корпоративний сектор з роздіб. ф'][\"Кошти клінтів/всього зобов'язань\"].mean())"
      ],
      "execution_count": null,
      "outputs": [
        {
          "output_type": "stream",
          "text": [
            "0.1843643662067261\n",
            "0.07582827679018563\n",
            "0.7517933936558966\n",
            "0.44130265067819063\n",
            "0.012343564301970459\n",
            "0.003532785081760909\n",
            "0.030228464605072836\n",
            "0.07542351649242246\n",
            "0.8586655445264924\n"
          ],
          "name": "stdout"
        }
      ]
    },
    {
      "cell_type": "markdown",
      "metadata": {
        "id": "whp7-yBWMvmf"
      },
      "source": [
        "Частка непрацюючих кредитів в кластерах банків"
      ]
    },
    {
      "cell_type": "code",
      "metadata": {
        "id": "7IxGuKU5M-ja"
      },
      "source": [
        "dataset['Частка непрацюючих кредитів'] = ddd"
      ],
      "execution_count": null,
      "outputs": []
    },
    {
      "cell_type": "code",
      "metadata": {
        "id": "v9QITpknNFxI"
      },
      "source": [
        "dataset.head()"
      ],
      "execution_count": null,
      "outputs": []
    },
    {
      "cell_type": "code",
      "metadata": {
        "id": "yztTF_lkO4fQ",
        "colab": {
          "base_uri": "https://localhost:8080/"
        },
        "outputId": "f39f2a47-a707-4a3e-b7b8-5534c9b7c2a6"
      },
      "source": [
        "print(dataset[dataset['clasters'] == 'Роздрібний сектор'][\"Частка непрацюючих кредитів\"].mean())\n",
        "print(dataset[dataset['clasters'] == 'Корпоративний сектор'][\"Частка непрацюючих кредитів\"].mean())\n",
        "print(dataset[dataset['clasters'] == 'Універсальний'][\"Частка непрацюючих кредитів\"].mean())\n",
        "print(dataset[dataset['clasters'] == 'Корпоративний сектор з роздіб. ф'][\"Частка непрацюючих кредитів\"].mean())"
      ],
      "execution_count": null,
      "outputs": [
        {
          "output_type": "stream",
          "text": [
            "0.3900983808594188\n",
            "0.2616527518081984\n",
            "0.31467513135961017\n",
            "0.2148281716841049\n"
          ],
          "name": "stdout"
        }
      ]
    },
    {
      "cell_type": "code",
      "metadata": {
        "id": "h69qCMWR8DPG"
      },
      "source": [
        "dataset.to_excel('dataset_21_01_2021.xlsx')"
      ],
      "execution_count": null,
      "outputs": []
    },
    {
      "cell_type": "code",
      "metadata": {
        "id": "Lz20o1WgO4Vp"
      },
      "source": [
        "вф"
      ],
      "execution_count": null,
      "outputs": []
    },
    {
      "cell_type": "markdown",
      "metadata": {
        "id": "3IMlQRt88DI8"
      },
      "source": [
        "вероятность отнесения к определенному кластеру"
      ]
    },
    {
      "cell_type": "code",
      "metadata": {
        "id": "rZ0sQCQTu39z"
      },
      "source": [
        "import numpy.matlib\n",
        "def soft_clustering_weights(data, cluster_centres, **kwargs):\n",
        "    \n",
        "    \"\"\"\n",
        "    Function to calculate the weights from soft k-means\n",
        "    data: Array of data. Features arranged across the columns with each row being a different data point\n",
        "    cluster_centres: array of cluster centres. Input kmeans.cluster_centres_ directly.\n",
        "    param: m - keyword argument, fuzziness of the clustering. Default 2\n",
        "    \"\"\"\n",
        "    \n",
        "    # Fuzziness parameter m>=1. Where m=1 => hard segmentation\n",
        "    m = 2\n",
        "    if 'm' in kwargs:\n",
        "        m = kwargs['m']\n",
        "    \n",
        "    Nclusters = cluster_centres.shape[0]\n",
        "    Ndp = data.shape[0]\n",
        "    Nfeatures = data.shape[1]\n",
        "\n",
        "    # Get distances from the cluster centres for each data point and each cluster\n",
        "    EuclidDist = np.zeros((Ndp, Nclusters))\n",
        "    for i in range(Nclusters):\n",
        "        EuclidDist[:,i] = np.sum((data-np.matlib.repmat(cluster_centres[i], Ndp, 1))**2,axis=1)\n",
        "    \n",
        "\n",
        "    \n",
        "    # Denominator of the weight from wikipedia:\n",
        "    invWeight = EuclidDist**(2/(m-1))*np.matlib.repmat(np.sum((1./EuclidDist)**(2/(m-1)),axis=1).reshape(-1,1),1,Nclusters)\n",
        "    Weight = 1./invWeight\n",
        "    \n",
        "    return Weight"
      ],
      "execution_count": null,
      "outputs": []
    },
    {
      "cell_type": "code",
      "metadata": {
        "colab": {
          "base_uri": "https://localhost:8080/"
        },
        "id": "Tz1nhnjzxjKm",
        "outputId": "29e3fe03-7e1b-446c-dce2-41b980c61dad"
      },
      "source": [
        "X.shape[1]"
      ],
      "execution_count": null,
      "outputs": [
        {
          "output_type": "execute_result",
          "data": {
            "text/plain": [
              "2"
            ]
          },
          "metadata": {
            "tags": []
          },
          "execution_count": 37
        }
      ]
    },
    {
      "cell_type": "code",
      "metadata": {
        "colab": {
          "base_uri": "https://localhost:8080/"
        },
        "id": "cUyAK8Y4w-Ud",
        "outputId": "a6968685-e9b8-4b81-f3ea-fd61c854b9a6"
      },
      "source": [
        "m = 2\n",
        "data = X\n",
        "cluster_centres = kmeans.cluster_centers_\n",
        "\n",
        "Nclusters = cluster_centres.shape[0]\n",
        "Ndp = data.shape[0]\n",
        "Nfeatures = data.shape[1]\n",
        "\n",
        "EuclidDist = np.zeros((Ndp, Nclusters))\n",
        "for i in range(Nclusters):\n",
        "    EuclidDist[:,i] = np.sum((data-np.matlib.repmat(cluster_centres[i], Ndp, 1))**2,axis=1)\n",
        "\n",
        "\n",
        "print(EuclidDist[0,:])\n",
        "# Denominator of the weight from wikipedia:\n",
        "invWeight = EuclidDist**(2/(m-1))*np.matlib.repmat(np.sum((1./EuclidDist)**(2/(m-1)),axis=1).reshape(-1,1),1,Nclusters)\n",
        "print(invWeight[0])\n",
        "Weight = 1./invWeight\n",
        "print(Weight[0])"
      ],
      "execution_count": null,
      "outputs": [
        {
          "output_type": "stream",
          "text": [
            "[0.72460751 0.03297453 0.50126744 0.18935582]\n",
            "[500.6235574    1.03672311 239.57671719  34.18715157]\n",
            "[0.00199751 0.96457771 0.00417403 0.02925076]\n"
          ],
          "name": "stdout"
        }
      ]
    },
    {
      "cell_type": "code",
      "metadata": {
        "colab": {
          "base_uri": "https://localhost:8080/"
        },
        "id": "-Gc0e9-jyDFJ",
        "outputId": "85f2b8bf-9ac5-431a-c7e1-65aaefb5387e"
      },
      "source": [
        "EuclidDist"
      ],
      "execution_count": null,
      "outputs": [
        {
          "output_type": "execute_result",
          "data": {
            "text/plain": [
              "array([[7.24607515e-01, 3.29745276e-02, 5.01267442e-01, 1.89355817e-01],\n",
              "       [1.61679816e-01, 5.81566973e-01, 1.84443849e-02, 7.56301138e-02],\n",
              "       [3.36183766e-03, 1.15555504e+00, 8.64783369e-02, 2.11910145e-01],\n",
              "       [1.38248041e-02, 8.96344881e-01, 3.27566111e-02, 1.13737613e-01],\n",
              "       [4.95724917e-02, 7.47718675e-01, 1.01427767e-02, 7.53245593e-02],\n",
              "       [2.29182765e-01, 3.24951618e-01, 1.05158320e-01, 1.18148107e-02],\n",
              "       [1.08521476e-01, 5.57820663e-01, 2.35201101e-02, 3.39213759e-02],\n",
              "       [3.19717396e-03, 1.15842079e+00, 8.86373533e-02, 2.12953786e-01],\n",
              "       [9.54925515e-02, 5.38613434e-01, 4.28748228e-02, 1.81400684e-02],\n",
              "       [2.71845698e-02, 7.52158941e-01, 5.75699597e-02, 6.32504323e-02],\n",
              "       [2.13690892e-02, 1.35342554e+00, 1.86201850e-01, 3.02070923e-01],\n",
              "       [1.99430699e-02, 1.31594524e+00, 1.87026703e-01, 2.86036437e-01],\n",
              "       [4.75765493e-02, 9.35149227e-01, 9.63733374e-03, 1.49976775e-01],\n",
              "       [1.98570271e-01, 3.47279659e-01, 1.45126927e-01, 2.07765827e-03],\n",
              "       [2.23384909e-02, 1.35893279e+00, 1.89289411e-01, 3.04860281e-01],\n",
              "       [1.24884817e+00, 1.43110931e-02, 9.79820954e-01, 4.94242071e-01],\n",
              "       [1.65349107e-01, 4.04043478e-01, 7.62666443e-02, 5.55027443e-03],\n",
              "       [2.23384909e-02, 1.35893279e+00, 1.89289411e-01, 3.04860281e-01],\n",
              "       [3.43525671e-02, 9.68306714e-01, 1.67751959e-02, 1.55364606e-01],\n",
              "       [1.37674860e+00, 2.80364290e-02, 1.00222264e+00, 5.76757688e-01],\n",
              "       [2.07561621e-02, 1.34987904e+00, 1.84219606e-01, 3.00281458e-01],\n",
              "       [4.19350402e-03, 1.13888196e+00, 7.70100336e-02, 2.05737920e-01],\n",
              "       [5.68142246e-03, 1.22638436e+00, 1.18537102e-01, 2.41723732e-01],\n",
              "       [1.57997014e-01, 4.02704543e-01, 1.04535420e-01, 3.54412304e-04],\n",
              "       [9.64905469e-01, 4.72362122e-03, 7.24041145e-01, 3.21110069e-01],\n",
              "       [5.29517315e-02, 9.24631578e-01, 7.70806657e-03, 1.48977079e-01],\n",
              "       [6.45017397e-02, 6.81050010e-01, 1.22195355e-02, 5.73316627e-02],\n",
              "       [3.46152735e-02, 7.18928598e-01, 4.44696005e-02, 5.43856605e-02],\n",
              "       [3.32530146e-02, 9.58543107e-01, 1.64378223e-02, 1.50752830e-01],\n",
              "       [1.09136666e+00, 6.56425111e-04, 7.95754740e-01, 3.95173341e-01],\n",
              "       [1.41009038e-01, 6.89681292e-01, 7.26259614e-03, 1.07004030e-01],\n",
              "       [5.06737323e-02, 8.29879465e-01, 4.84122347e-03, 1.09279947e-01],\n",
              "       [6.05122193e-03, 1.08021865e+00, 5.79310948e-02, 1.83266104e-01],\n",
              "       [1.13034739e-02, 1.00144838e+00, 3.82463582e-02, 1.54709046e-01],\n",
              "       [2.07745992e-02, 7.88761122e-01, 5.95464995e-02, 7.41819428e-02],\n",
              "       [1.01189382e-01, 5.80381053e-01, 1.95209280e-02, 3.86606481e-02],\n",
              "       [1.47123421e-01, 4.55845820e-01, 1.56596072e-01, 1.48973976e-02],\n",
              "       [1.06398844e-01, 8.42756144e-01, 2.84370893e-03, 1.48113845e-01],\n",
              "       [7.88055373e-02, 7.69741040e-01, 4.26518495e-04, 1.01942651e-01],\n",
              "       [1.20546894e-03, 1.07691400e+00, 7.36899765e-02, 1.78883647e-01],\n",
              "       [8.96072378e-02, 7.86726263e-01, 3.29027920e-05, 1.15333925e-01],\n",
              "       [2.87503150e-02, 8.66766366e-01, 1.36914552e-01, 1.09958066e-01],\n",
              "       [8.79511683e-02, 7.83292616e-01, 3.89350102e-06, 1.12945817e-01],\n",
              "       [3.67242504e-02, 8.45259627e-01, 1.07840398e-02, 1.07045162e-01],\n",
              "       [7.39039634e-03, 9.84144152e-01, 4.39352084e-02, 1.45301914e-01],\n",
              "       [1.21816904e-02, 9.07373676e-01, 3.51481285e-02, 1.17191341e-01],\n",
              "       [3.88311381e-03, 9.60606491e-01, 8.77004422e-02, 1.33320509e-01],\n",
              "       [2.83083524e-03, 1.13280236e+00, 1.20959340e-01, 2.02113648e-01],\n",
              "       [6.56688665e-02, 8.86014095e-01, 3.58782065e-03, 1.41050459e-01],\n",
              "       [2.24020249e-02, 1.00561487e+00, 1.62799194e-01, 1.62119157e-01],\n",
              "       [6.29893019e-03, 1.23233833e+00, 1.27858123e-01, 2.44433127e-01],\n",
              "       [1.55965989e-02, 1.04193646e+00, 3.77283694e-02, 1.73687501e-01],\n",
              "       [1.79629190e-01, 8.05958588e-01, 1.86007894e-02, 1.77263910e-01],\n",
              "       [1.54966032e-01, 7.82830420e-01, 1.05670405e-02, 1.53092518e-01],\n",
              "       [2.03958254e-01, 3.38078843e-01, 1.40727473e-01, 1.63782421e-03],\n",
              "       [6.93806484e-03, 1.03755139e+00, 4.94604430e-02, 1.66599697e-01],\n",
              "       [7.67517421e-03, 1.01123512e+00, 4.51684056e-02, 1.56427612e-01],\n",
              "       [2.68063185e-02, 9.88089069e-01, 2.25353045e-02, 1.58774507e-01],\n",
              "       [1.55339290e-01, 7.94065743e-01, 1.10026259e-02, 1.57861103e-01],\n",
              "       [2.90787247e-02, 9.43328078e-01, 1.75131465e-02, 1.42069559e-01],\n",
              "       [4.25638753e-01, 7.66869162e-01, 1.29303150e-01, 3.08948807e-01],\n",
              "       [2.04106433e-01, 7.51396123e-01, 2.51889635e-02, 1.69893501e-01],\n",
              "       [1.78549797e-01, 3.94083959e-01, 1.63626018e-01, 8.80094782e-03],\n",
              "       [3.44015820e-03, 1.18470252e+00, 1.18052966e-01, 2.23507429e-01],\n",
              "       [1.69484069e-01, 8.08672636e-01, 1.55670753e-02, 1.72267466e-01],\n",
              "       [2.55143560e-01, 2.78789027e-01, 1.51305120e-01, 8.43058778e-03],\n",
              "       [2.10234087e-02, 1.08154261e+00, 1.75067252e-01, 1.91919736e-01],\n",
              "       [8.48936520e-03, 1.03977200e+00, 4.68703580e-02, 1.68454099e-01],\n",
              "       [3.15452891e-02, 8.17390197e-01, 1.61465007e-02, 9.26014553e-02],\n",
              "       [5.82986884e-03, 1.12799603e+00, 1.35865242e-01, 2.01861218e-01]])"
            ]
          },
          "metadata": {
            "tags": []
          },
          "execution_count": 41
        }
      ]
    },
    {
      "cell_type": "code",
      "metadata": {
        "id": "AxjDOgpBu_XI"
      },
      "source": [
        "# for i in range(4):\n",
        "#     dataset['p' + str(i)] = 0\n",
        "    \n",
        "dataset[['p0', 'p1', 'p2', 'p3']] = soft_clustering_weights(X, kmeans.cluster_centers_)"
      ],
      "execution_count": null,
      "outputs": []
    },
    {
      "cell_type": "code",
      "metadata": {
        "colab": {
          "base_uri": "https://localhost:8080/",
          "height": 438
        },
        "id": "LqUy52k8vvDC",
        "outputId": "9b5a26cf-25f9-4ad5-eb95-2cc5af2c9698"
      },
      "source": [
        "dataset['check_pers'] = dataset.apply(lambda x: sum([x['p0'], x['p1'], x['p2'], x['p3']]), axis=1)\n",
        "dataset.head()"
      ],
      "execution_count": null,
      "outputs": [
        {
          "output_type": "execute_result",
          "data": {
            "text/html": [
              "<div>\n",
              "<style scoped>\n",
              "    .dataframe tbody tr th:only-of-type {\n",
              "        vertical-align: middle;\n",
              "    }\n",
              "\n",
              "    .dataframe tbody tr th {\n",
              "        vertical-align: top;\n",
              "    }\n",
              "\n",
              "    .dataframe thead th {\n",
              "        text-align: right;\n",
              "    }\n",
              "</style>\n",
              "<table border=\"1\" class=\"dataframe\">\n",
              "  <thead>\n",
              "    <tr style=\"text-align: right;\">\n",
              "      <th></th>\n",
              "      <th>Банк, номер</th>\n",
              "      <th>Назва банку</th>\n",
              "      <th>Капітал та резерви до загальної суми активів</th>\n",
              "      <th>Частка грошових коштів та їх еквівалентів у сукупних активах</th>\n",
              "      <th>Співвідношення кредитів та депозитів</th>\n",
              "      <th>Співвідношення кредитів до загальної суми активів</th>\n",
              "      <th>Співвідношення операційних витрат до загальної суми активів</th>\n",
              "      <th>Показник рентабельності активів ROA</th>\n",
              "      <th>Рентабельність капіталу ROE</th>\n",
              "      <th>Норма прибутку</th>\n",
              "      <th>Кошти клінтів/всього зобов'язань</th>\n",
              "      <th>Кредити юридичним особам/всього активи</th>\n",
              "      <th>Депозити юридичних осіб/ всього зобов'язань</th>\n",
              "      <th>Кредити фізичним особам/всього активи</th>\n",
              "      <th>Депозити фізичних осіб/ всього зобов'язань</th>\n",
              "      <th>Кредити юридичних осіб/всього кредити</th>\n",
              "      <th>Кредити юридичним особам/всього чисті активи</th>\n",
              "      <th>clasters</th>\n",
              "      <th>p0</th>\n",
              "      <th>p1</th>\n",
              "      <th>p2</th>\n",
              "      <th>p3</th>\n",
              "      <th>check_pers</th>\n",
              "    </tr>\n",
              "  </thead>\n",
              "  <tbody>\n",
              "    <tr>\n",
              "      <th>0</th>\n",
              "      <td>46</td>\n",
              "      <td>АТ КБ \"ПриватБанк\"</td>\n",
              "      <td>0.391869</td>\n",
              "      <td>0.047984</td>\n",
              "      <td>0.210922</td>\n",
              "      <td>0.114242</td>\n",
              "      <td>0.006118</td>\n",
              "      <td>0.015785</td>\n",
              "      <td>0.213049</td>\n",
              "      <td>0.542360</td>\n",
              "      <td>0.899320</td>\n",
              "      <td>0.031438</td>\n",
              "      <td>0.229357</td>\n",
              "      <td>0.082804</td>\n",
              "      <td>0.669020</td>\n",
              "      <td>0.275188</td>\n",
              "      <td>0.046481</td>\n",
              "      <td>Роздрібний сектор</td>\n",
              "      <td>0.001998</td>\n",
              "      <td>0.964578</td>\n",
              "      <td>0.004174</td>\n",
              "      <td>0.029251</td>\n",
              "      <td>1.0</td>\n",
              "    </tr>\n",
              "    <tr>\n",
              "      <th>1</th>\n",
              "      <td>6</td>\n",
              "      <td>АТ \"Ощадбанк\"</td>\n",
              "      <td>0.171109</td>\n",
              "      <td>0.058204</td>\n",
              "      <td>0.327531</td>\n",
              "      <td>0.236407</td>\n",
              "      <td>0.012126</td>\n",
              "      <td>0.001593</td>\n",
              "      <td>0.020903</td>\n",
              "      <td>0.087346</td>\n",
              "      <td>0.888932</td>\n",
              "      <td>0.200159</td>\n",
              "      <td>0.337830</td>\n",
              "      <td>0.036248</td>\n",
              "      <td>0.527876</td>\n",
              "      <td>0.846671</td>\n",
              "      <td>0.225355</td>\n",
              "      <td>Корпоративний сектор з роздіб. ф</td>\n",
              "      <td>0.012123</td>\n",
              "      <td>0.000937</td>\n",
              "      <td>0.931536</td>\n",
              "      <td>0.055404</td>\n",
              "      <td>1.0</td>\n",
              "    </tr>\n",
              "    <tr>\n",
              "      <th>2</th>\n",
              "      <td>2</td>\n",
              "      <td>АТ \"Укрексімбанк\"</td>\n",
              "      <td>0.181402</td>\n",
              "      <td>0.082897</td>\n",
              "      <td>0.392126</td>\n",
              "      <td>0.201836</td>\n",
              "      <td>0.011785</td>\n",
              "      <td>0.003546</td>\n",
              "      <td>0.082205</td>\n",
              "      <td>0.263999</td>\n",
              "      <td>0.648982</td>\n",
              "      <td>0.201247</td>\n",
              "      <td>0.425501</td>\n",
              "      <td>0.000589</td>\n",
              "      <td>0.142321</td>\n",
              "      <td>0.997083</td>\n",
              "      <td>0.240652</td>\n",
              "      <td>Корпоративний сектор</td>\n",
              "      <td>0.998232</td>\n",
              "      <td>0.000008</td>\n",
              "      <td>0.001509</td>\n",
              "      <td>0.000251</td>\n",
              "      <td>1.0</td>\n",
              "    </tr>\n",
              "    <tr>\n",
              "      <th>3</th>\n",
              "      <td>274</td>\n",
              "      <td>АБ \"УКРГАЗБАНК\"</td>\n",
              "      <td>0.104216</td>\n",
              "      <td>0.078639</td>\n",
              "      <td>0.437019</td>\n",
              "      <td>0.351646</td>\n",
              "      <td>0.012807</td>\n",
              "      <td>0.003254</td>\n",
              "      <td>0.049777</td>\n",
              "      <td>0.144487</td>\n",
              "      <td>0.931346</td>\n",
              "      <td>0.322362</td>\n",
              "      <td>0.632480</td>\n",
              "      <td>0.029284</td>\n",
              "      <td>0.251991</td>\n",
              "      <td>0.916723</td>\n",
              "      <td>0.346874</td>\n",
              "      <td>Корпоративний сектор</td>\n",
              "      <td>0.838128</td>\n",
              "      <td>0.000199</td>\n",
              "      <td>0.149290</td>\n",
              "      <td>0.012383</td>\n",
              "      <td>1.0</td>\n",
              "    </tr>\n",
              "    <tr>\n",
              "      <th>5</th>\n",
              "      <td>36</td>\n",
              "      <td>АТ \"Райффайзен Банк Аваль\"</td>\n",
              "      <td>0.091807</td>\n",
              "      <td>0.110816</td>\n",
              "      <td>0.546584</td>\n",
              "      <td>0.444225</td>\n",
              "      <td>0.005996</td>\n",
              "      <td>0.015714</td>\n",
              "      <td>0.147624</td>\n",
              "      <td>0.386159</td>\n",
              "      <td>0.926981</td>\n",
              "      <td>0.391203</td>\n",
              "      <td>0.572339</td>\n",
              "      <td>0.053022</td>\n",
              "      <td>0.351377</td>\n",
              "      <td>0.880641</td>\n",
              "      <td>0.397888</td>\n",
              "      <td>Корпоративний сектор з роздіб. ф</td>\n",
              "      <td>0.039487</td>\n",
              "      <td>0.000174</td>\n",
              "      <td>0.943237</td>\n",
              "      <td>0.017103</td>\n",
              "      <td>1.0</td>\n",
              "    </tr>\n",
              "  </tbody>\n",
              "</table>\n",
              "</div>"
            ],
            "text/plain": [
              "   Банк, номер                 Назва банку  ...        p3  check_pers\n",
              "0           46          АТ КБ \"ПриватБанк\"  ...  0.029251         1.0\n",
              "1            6               АТ \"Ощадбанк\"  ...  0.055404         1.0\n",
              "2            2           АТ \"Укрексімбанк\"  ...  0.000251         1.0\n",
              "3          274             АБ \"УКРГАЗБАНК\"  ...  0.012383         1.0\n",
              "5           36  АТ \"Райффайзен Банк Аваль\"  ...  0.017103         1.0\n",
              "\n",
              "[5 rows x 23 columns]"
            ]
          },
          "metadata": {
            "tags": []
          },
          "execution_count": 32
        }
      ]
    },
    {
      "cell_type": "code",
      "metadata": {
        "colab": {
          "base_uri": "https://localhost:8080/",
          "height": 767
        },
        "id": "dZsJI3cSv4d4",
        "outputId": "472b423a-b175-4bc2-8db4-41cf883c9ffb"
      },
      "source": [
        ""
      ],
      "execution_count": null,
      "outputs": [
        {
          "output_type": "execute_result",
          "data": {
            "text/html": [
              "<div>\n",
              "<style scoped>\n",
              "    .dataframe tbody tr th:only-of-type {\n",
              "        vertical-align: middle;\n",
              "    }\n",
              "\n",
              "    .dataframe tbody tr th {\n",
              "        vertical-align: top;\n",
              "    }\n",
              "\n",
              "    .dataframe thead th {\n",
              "        text-align: right;\n",
              "    }\n",
              "</style>\n",
              "<table border=\"1\" class=\"dataframe\">\n",
              "  <thead>\n",
              "    <tr style=\"text-align: right;\">\n",
              "      <th></th>\n",
              "      <th>Банк, номер</th>\n",
              "      <th>Назва банку</th>\n",
              "      <th>Капітал та резерви до загальної суми активів</th>\n",
              "      <th>Частка грошових коштів та їх еквівалентів у сукупних активах</th>\n",
              "      <th>Співвідношення кредитів та депозитів</th>\n",
              "      <th>Співвідношення кредитів до загальної суми активів</th>\n",
              "      <th>Співвідношення операційних витрат до загальної суми активів</th>\n",
              "      <th>Показник рентабельності активів ROA</th>\n",
              "      <th>Рентабельність капіталу ROE</th>\n",
              "      <th>Норма прибутку</th>\n",
              "      <th>Кошти клінтів/всього зобов'язань</th>\n",
              "      <th>Кредити юридичним особам/всього активи</th>\n",
              "      <th>Депозити юридичних осіб/ всього зобов'язань</th>\n",
              "      <th>Кредити фізичним особам/всього активи</th>\n",
              "      <th>Депозити фізичних осіб/ всього зобов'язань</th>\n",
              "      <th>Кредити юридичних осіб/всього кредити</th>\n",
              "      <th>Кредити юридичним особам/всього чисті активи</th>\n",
              "      <th>clasters</th>\n",
              "      <th>p0</th>\n",
              "      <th>p1</th>\n",
              "      <th>p2</th>\n",
              "      <th>p3</th>\n",
              "      <th>check_pers</th>\n",
              "    </tr>\n",
              "  </thead>\n",
              "  <tbody>\n",
              "    <tr>\n",
              "      <th>0</th>\n",
              "      <td>46</td>\n",
              "      <td>АТ КБ \"ПриватБанк\"</td>\n",
              "      <td>0.391869</td>\n",
              "      <td>0.047984</td>\n",
              "      <td>0.210922</td>\n",
              "      <td>0.114242</td>\n",
              "      <td>0.006118</td>\n",
              "      <td>0.015785</td>\n",
              "      <td>0.213049</td>\n",
              "      <td>0.542360</td>\n",
              "      <td>0.899320</td>\n",
              "      <td>0.031438</td>\n",
              "      <td>0.229357</td>\n",
              "      <td>0.082804</td>\n",
              "      <td>0.669020</td>\n",
              "      <td>0.275188</td>\n",
              "      <td>0.046481</td>\n",
              "      <td>Роздрібний сектор</td>\n",
              "      <td>0.001998</td>\n",
              "      <td>0.964578</td>\n",
              "      <td>0.004174</td>\n",
              "      <td>0.029251</td>\n",
              "      <td>1.0</td>\n",
              "    </tr>\n",
              "    <tr>\n",
              "      <th>1</th>\n",
              "      <td>6</td>\n",
              "      <td>АТ \"Ощадбанк\"</td>\n",
              "      <td>0.171109</td>\n",
              "      <td>0.058204</td>\n",
              "      <td>0.327531</td>\n",
              "      <td>0.236407</td>\n",
              "      <td>0.012126</td>\n",
              "      <td>0.001593</td>\n",
              "      <td>0.020903</td>\n",
              "      <td>0.087346</td>\n",
              "      <td>0.888932</td>\n",
              "      <td>0.200159</td>\n",
              "      <td>0.337830</td>\n",
              "      <td>0.036248</td>\n",
              "      <td>0.527876</td>\n",
              "      <td>0.846671</td>\n",
              "      <td>0.225355</td>\n",
              "      <td>Корпоративний сектор з роздіб. ф</td>\n",
              "      <td>0.012123</td>\n",
              "      <td>0.000937</td>\n",
              "      <td>0.931536</td>\n",
              "      <td>0.055404</td>\n",
              "      <td>1.0</td>\n",
              "    </tr>\n",
              "    <tr>\n",
              "      <th>2</th>\n",
              "      <td>2</td>\n",
              "      <td>АТ \"Укрексімбанк\"</td>\n",
              "      <td>0.181402</td>\n",
              "      <td>0.082897</td>\n",
              "      <td>0.392126</td>\n",
              "      <td>0.201836</td>\n",
              "      <td>0.011785</td>\n",
              "      <td>0.003546</td>\n",
              "      <td>0.082205</td>\n",
              "      <td>0.263999</td>\n",
              "      <td>0.648982</td>\n",
              "      <td>0.201247</td>\n",
              "      <td>0.425501</td>\n",
              "      <td>0.000589</td>\n",
              "      <td>0.142321</td>\n",
              "      <td>0.997083</td>\n",
              "      <td>0.240652</td>\n",
              "      <td>Корпоративний сектор</td>\n",
              "      <td>0.998232</td>\n",
              "      <td>0.000008</td>\n",
              "      <td>0.001509</td>\n",
              "      <td>0.000251</td>\n",
              "      <td>1.0</td>\n",
              "    </tr>\n",
              "    <tr>\n",
              "      <th>3</th>\n",
              "      <td>274</td>\n",
              "      <td>АБ \"УКРГАЗБАНК\"</td>\n",
              "      <td>0.104216</td>\n",
              "      <td>0.078639</td>\n",
              "      <td>0.437019</td>\n",
              "      <td>0.351646</td>\n",
              "      <td>0.012807</td>\n",
              "      <td>0.003254</td>\n",
              "      <td>0.049777</td>\n",
              "      <td>0.144487</td>\n",
              "      <td>0.931346</td>\n",
              "      <td>0.322362</td>\n",
              "      <td>0.632480</td>\n",
              "      <td>0.029284</td>\n",
              "      <td>0.251991</td>\n",
              "      <td>0.916723</td>\n",
              "      <td>0.346874</td>\n",
              "      <td>Корпоративний сектор</td>\n",
              "      <td>0.838128</td>\n",
              "      <td>0.000199</td>\n",
              "      <td>0.149290</td>\n",
              "      <td>0.012383</td>\n",
              "      <td>1.0</td>\n",
              "    </tr>\n",
              "    <tr>\n",
              "      <th>5</th>\n",
              "      <td>36</td>\n",
              "      <td>АТ \"Райффайзен Банк Аваль\"</td>\n",
              "      <td>0.091807</td>\n",
              "      <td>0.110816</td>\n",
              "      <td>0.546584</td>\n",
              "      <td>0.444225</td>\n",
              "      <td>0.005996</td>\n",
              "      <td>0.015714</td>\n",
              "      <td>0.147624</td>\n",
              "      <td>0.386159</td>\n",
              "      <td>0.926981</td>\n",
              "      <td>0.391203</td>\n",
              "      <td>0.572339</td>\n",
              "      <td>0.053022</td>\n",
              "      <td>0.351377</td>\n",
              "      <td>0.880641</td>\n",
              "      <td>0.397888</td>\n",
              "      <td>Корпоративний сектор з роздіб. ф</td>\n",
              "      <td>0.039487</td>\n",
              "      <td>0.000174</td>\n",
              "      <td>0.943237</td>\n",
              "      <td>0.017103</td>\n",
              "      <td>1.0</td>\n",
              "    </tr>\n",
              "    <tr>\n",
              "      <th>...</th>\n",
              "      <td>...</td>\n",
              "      <td>...</td>\n",
              "      <td>...</td>\n",
              "      <td>...</td>\n",
              "      <td>...</td>\n",
              "      <td>...</td>\n",
              "      <td>...</td>\n",
              "      <td>...</td>\n",
              "      <td>...</td>\n",
              "      <td>...</td>\n",
              "      <td>...</td>\n",
              "      <td>...</td>\n",
              "      <td>...</td>\n",
              "      <td>...</td>\n",
              "      <td>...</td>\n",
              "      <td>...</td>\n",
              "      <td>...</td>\n",
              "      <td>...</td>\n",
              "      <td>...</td>\n",
              "      <td>...</td>\n",
              "      <td>...</td>\n",
              "      <td>...</td>\n",
              "      <td>...</td>\n",
              "    </tr>\n",
              "    <tr>\n",
              "      <th>67</th>\n",
              "      <td>95</td>\n",
              "      <td>АТ \"ОКСІ БАНК\"</td>\n",
              "      <td>0.275329</td>\n",
              "      <td>0.134936</td>\n",
              "      <td>0.600972</td>\n",
              "      <td>0.361427</td>\n",
              "      <td>0.009525</td>\n",
              "      <td>0.004050</td>\n",
              "      <td>0.013772</td>\n",
              "      <td>0.046062</td>\n",
              "      <td>0.902333</td>\n",
              "      <td>0.200386</td>\n",
              "      <td>0.438677</td>\n",
              "      <td>0.161041</td>\n",
              "      <td>0.463656</td>\n",
              "      <td>0.554430</td>\n",
              "      <td>0.208613</td>\n",
              "      <td>Універсальний</td>\n",
              "      <td>0.001086</td>\n",
              "      <td>0.000910</td>\n",
              "      <td>0.003089</td>\n",
              "      <td>0.994915</td>\n",
              "      <td>1.0</td>\n",
              "    </tr>\n",
              "    <tr>\n",
              "      <th>69</th>\n",
              "      <td>72</td>\n",
              "      <td>ПрАТ \"БАНК ФАМІЛЬНИЙ\"</td>\n",
              "      <td>0.524558</td>\n",
              "      <td>0.029998</td>\n",
              "      <td>0.078269</td>\n",
              "      <td>0.008763</td>\n",
              "      <td>0.000331</td>\n",
              "      <td>0.025388</td>\n",
              "      <td>0.046026</td>\n",
              "      <td>0.420984</td>\n",
              "      <td>0.271297</td>\n",
              "      <td>0.007439</td>\n",
              "      <td>0.248021</td>\n",
              "      <td>0.001324</td>\n",
              "      <td>0.023276</td>\n",
              "      <td>0.848953</td>\n",
              "      <td>0.007715</td>\n",
              "      <td>Корпоративний сектор</td>\n",
              "      <td>0.973901</td>\n",
              "      <td>0.000368</td>\n",
              "      <td>0.014045</td>\n",
              "      <td>0.011686</td>\n",
              "      <td>1.0</td>\n",
              "    </tr>\n",
              "    <tr>\n",
              "      <th>70</th>\n",
              "      <td>311</td>\n",
              "      <td>АТ \"БАНК ТРАСТ-КАПІТАЛ\"</td>\n",
              "      <td>0.714011</td>\n",
              "      <td>0.063852</td>\n",
              "      <td>1.610872</td>\n",
              "      <td>0.292741</td>\n",
              "      <td>0.000697</td>\n",
              "      <td>-0.004292</td>\n",
              "      <td>-0.005512</td>\n",
              "      <td>-0.100916</td>\n",
              "      <td>0.920018</td>\n",
              "      <td>0.287425</td>\n",
              "      <td>0.701628</td>\n",
              "      <td>0.005316</td>\n",
              "      <td>0.218389</td>\n",
              "      <td>0.981839</td>\n",
              "      <td>0.294424</td>\n",
              "      <td>Корпоративний сектор</td>\n",
              "      <td>0.965799</td>\n",
              "      <td>0.000064</td>\n",
              "      <td>0.031684</td>\n",
              "      <td>0.002453</td>\n",
              "      <td>1.0</td>\n",
              "    </tr>\n",
              "    <tr>\n",
              "      <th>71</th>\n",
              "      <td>634</td>\n",
              "      <td>АТ \"БАНК \"ПОРТАЛ\"</td>\n",
              "      <td>0.576564</td>\n",
              "      <td>0.121460</td>\n",
              "      <td>2.268711</td>\n",
              "      <td>0.405162</td>\n",
              "      <td>0.002679</td>\n",
              "      <td>0.001269</td>\n",
              "      <td>0.002053</td>\n",
              "      <td>0.029924</td>\n",
              "      <td>0.793038</td>\n",
              "      <td>0.365724</td>\n",
              "      <td>0.482649</td>\n",
              "      <td>0.039438</td>\n",
              "      <td>0.310389</td>\n",
              "      <td>0.902661</td>\n",
              "      <td>0.433621</td>\n",
              "      <td>Корпоративний сектор з роздіб. ф</td>\n",
              "      <td>0.202657</td>\n",
              "      <td>0.000302</td>\n",
              "      <td>0.773524</td>\n",
              "      <td>0.023518</td>\n",
              "      <td>1.0</td>\n",
              "    </tr>\n",
              "    <tr>\n",
              "      <th>72</th>\n",
              "      <td>512</td>\n",
              "      <td>АТ \"АЛЬПАРІ БАНК\"</td>\n",
              "      <td>0.926887</td>\n",
              "      <td>0.021328</td>\n",
              "      <td>5.679239</td>\n",
              "      <td>0.143948</td>\n",
              "      <td>0.003343</td>\n",
              "      <td>-0.023171</td>\n",
              "      <td>-0.028666</td>\n",
              "      <td>-0.436091</td>\n",
              "      <td>0.135613</td>\n",
              "      <td>0.132103</td>\n",
              "      <td>0.072210</td>\n",
              "      <td>0.011846</td>\n",
              "      <td>0.063403</td>\n",
              "      <td>0.917709</td>\n",
              "      <td>0.132737</td>\n",
              "      <td>Корпоративний сектор</td>\n",
              "      <td>0.997305</td>\n",
              "      <td>0.000027</td>\n",
              "      <td>0.001836</td>\n",
              "      <td>0.000832</td>\n",
              "      <td>1.0</td>\n",
              "    </tr>\n",
              "  </tbody>\n",
              "</table>\n",
              "<p>70 rows × 23 columns</p>\n",
              "</div>"
            ],
            "text/plain": [
              "    Банк, номер                 Назва банку  ...        p3  check_pers\n",
              "0            46          АТ КБ \"ПриватБанк\"  ...  0.029251         1.0\n",
              "1             6               АТ \"Ощадбанк\"  ...  0.055404         1.0\n",
              "2             2           АТ \"Укрексімбанк\"  ...  0.000251         1.0\n",
              "3           274             АБ \"УКРГАЗБАНК\"  ...  0.012383         1.0\n",
              "5            36  АТ \"Райффайзен Банк Аваль\"  ...  0.017103         1.0\n",
              "..          ...                         ...  ...       ...         ...\n",
              "67           95              АТ \"ОКСІ БАНК\"  ...  0.994915         1.0\n",
              "69           72       ПрАТ \"БАНК ФАМІЛЬНИЙ\"  ...  0.011686         1.0\n",
              "70          311     АТ \"БАНК ТРАСТ-КАПІТАЛ\"  ...  0.002453         1.0\n",
              "71          634           АТ \"БАНК \"ПОРТАЛ\"  ...  0.023518         1.0\n",
              "72          512           АТ \"АЛЬПАРІ БАНК\"  ...  0.000832         1.0\n",
              "\n",
              "[70 rows x 23 columns]"
            ]
          },
          "metadata": {
            "tags": []
          },
          "execution_count": 31
        }
      ]
    }
  ]
}