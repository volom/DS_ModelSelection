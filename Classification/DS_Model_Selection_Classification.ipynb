{
  "nbformat": 4,
  "nbformat_minor": 0,
  "metadata": {
    "colab": {
      "name": "DS_Model_Selection_Classification.ipynb",
      "provenance": [],
      "collapsed_sections": []
    },
    "kernelspec": {
      "name": "python3",
      "display_name": "Python 3"
    },
    "language_info": {
      "name": "python"
    }
  },
  "cells": [
    {
      "cell_type": "markdown",
      "metadata": {
        "id": "_1JbHmgEjtWS"
      },
      "source": [
        "#Getting ready to estimation!"
      ]
    },
    {
      "cell_type": "markdown",
      "metadata": {
        "id": "qD1tW8hoirQw"
      },
      "source": [
        "It's used **sklearn version 1.0** in this script. The version of the library defines models and their hyperparameters to estimate. But you can use any version, just put suitable models and parameters or update your sklearn with below command"
      ]
    },
    {
      "cell_type": "code",
      "metadata": {
        "colab": {
          "base_uri": "https://localhost:8080/"
        },
        "id": "sWUSAzwrAS0Z",
        "outputId": "5ea95eac-ea07-4d01-ee80-91ed8e718c0f"
      },
      "source": [
        "!pip install -U scikit-learn"
      ],
      "execution_count": 1,
      "outputs": [
        {
          "output_type": "stream",
          "name": "stdout",
          "text": [
            "Requirement already satisfied: scikit-learn in /usr/local/lib/python3.7/dist-packages (1.0)\n",
            "Requirement already satisfied: threadpoolctl>=2.0.0 in /usr/local/lib/python3.7/dist-packages (from scikit-learn) (3.0.0)\n",
            "Requirement already satisfied: scipy>=1.1.0 in /usr/local/lib/python3.7/dist-packages (from scikit-learn) (1.4.1)\n",
            "Requirement already satisfied: joblib>=0.11 in /usr/local/lib/python3.7/dist-packages (from scikit-learn) (1.0.1)\n",
            "Requirement already satisfied: numpy>=1.14.6 in /usr/local/lib/python3.7/dist-packages (from scikit-learn) (1.19.5)\n"
          ]
        }
      ]
    },
    {
      "cell_type": "markdown",
      "metadata": {
        "id": "P7bTeZBSjpdm"
      },
      "source": [
        "#Importing dependencies"
      ]
    },
    {
      "cell_type": "code",
      "metadata": {
        "id": "F9FvpYwgAGHG"
      },
      "source": [
        "import itertools\n",
        "import numpy as np\n",
        "import pandas as pd\n",
        "from tqdm import tqdm\n",
        "import time\n",
        "\n",
        "from sklearn.metrics import accuracy_score\n",
        "from sklearn.preprocessing import StandardScaler\n",
        "from sklearn.tree import DecisionTreeClassifier\n",
        "from sklearn.neighbors import KNeighborsClassifier\n",
        "from sklearn.svm import SVC\n",
        "from sklearn.linear_model import LogisticRegression\n",
        "from sklearn.naive_bayes import GaussianNB\n",
        "from sklearn.ensemble import RandomForestClassifier\n",
        "# from sklearn.model_selection import GridSearchCV\n",
        "\n",
        "import warnings\n",
        "warnings.filterwarnings('ignore')"
      ],
      "execution_count": 2,
      "outputs": []
    },
    {
      "cell_type": "markdown",
      "metadata": {
        "id": "cfx2o5fNj7tY"
      },
      "source": [
        "#Handle with input data"
      ]
    },
    {
      "cell_type": "markdown",
      "metadata": {
        "id": "Etfb1161iX2N"
      },
      "source": [
        "Choose models and parameters. Put it into model list"
      ]
    },
    {
      "cell_type": "code",
      "metadata": {
        "id": "2Ioi1OMSVFdX"
      },
      "source": [
        "params_dt = {'criterion' : ['gini', 'entropy'],\n",
        "             'splitter': ['best', 'random'],\n",
        "             'max_depth': [None, 2, 3, 5, 7, 9],\n",
        "             'max_features':[None, 'auto', 'sqrt', 'log2']}\n",
        "\n",
        "params_knn = {'n_neighbors': [3, 4, 5, 7],\n",
        "              'algorithm': ['auto', 'ball_tree', 'kd_tree', 'brute']}\n",
        "\n",
        "params_svc = {'kernel':['linear', 'poly', 'rbf', 'sigmoid', 'precomputed'],\n",
        "              'degree':[2, 3, 4, 5, 6],\n",
        "              'gamma':['scale', 'auto']}\n",
        "\n",
        "params_lr = {'penalty' : ['l1', 'l2', 'elasticnet', 'none'],\n",
        "             'fit_intercept': [True, False],\n",
        "             'solver': ['newton-cg', 'lbfgs', 'liblinear', 'sag', 'saga']}\n",
        "\n",
        "params_gnb = {'var_smoothing':[1e-9, 1e-8, 1e-7]}\n",
        "\n",
        "params_rc = {'n_estimators': [100, 150, 200, 250],\n",
        "             'criterion': ['gini', 'entropy'],\n",
        "             'max_depth': [None, 5, 7, 9],\n",
        "             'max_features': ['auto', 'sqrt', 'log2']}"
      ],
      "execution_count": 13,
      "outputs": []
    },
    {
      "cell_type": "code",
      "metadata": {
        "id": "UIdXXaLpSeZB"
      },
      "source": [
        "# models = [(DecisionTreeClassifier, params_dt), (KNeighborsClassifier, params_knn), \n",
        "#           (SVC, params_svc), (LogisticRegression, params_lr), \n",
        "#           (GaussianNB, params_gnb), (RandomForestClassifier, params_rc)]\n",
        "models = [(DecisionTreeClassifier, params_dt), (KNeighborsClassifier, params_knn), \n",
        "          (LogisticRegression, params_lr), \n",
        "          (GaussianNB, params_gnb), (RandomForestClassifier, params_rc)]          "
      ],
      "execution_count": 14,
      "outputs": []
    },
    {
      "cell_type": "code",
      "metadata": {
        "colab": {
          "base_uri": "https://localhost:8080/",
          "height": 235
        },
        "id": "TPXAjPTEIlFx",
        "outputId": "a85b2660-8ee4-4d97-e8e9-dad1972ed2c4"
      },
      "source": [
        "dataset = pd.read_csv('Data_classification.csv')\n",
        "dataset.head()"
      ],
      "execution_count": 5,
      "outputs": [
        {
          "output_type": "execute_result",
          "data": {
            "text/html": [
              "<div>\n",
              "<style scoped>\n",
              "    .dataframe tbody tr th:only-of-type {\n",
              "        vertical-align: middle;\n",
              "    }\n",
              "\n",
              "    .dataframe tbody tr th {\n",
              "        vertical-align: top;\n",
              "    }\n",
              "\n",
              "    .dataframe thead th {\n",
              "        text-align: right;\n",
              "    }\n",
              "</style>\n",
              "<table border=\"1\" class=\"dataframe\">\n",
              "  <thead>\n",
              "    <tr style=\"text-align: right;\">\n",
              "      <th></th>\n",
              "      <th>Sample code number</th>\n",
              "      <th>Clump Thickness</th>\n",
              "      <th>Uniformity of Cell Size</th>\n",
              "      <th>Uniformity of Cell Shape</th>\n",
              "      <th>Marginal Adhesion</th>\n",
              "      <th>Single Epithelial Cell Size</th>\n",
              "      <th>Bare Nuclei</th>\n",
              "      <th>Bland Chromatin</th>\n",
              "      <th>Normal Nucleoli</th>\n",
              "      <th>Mitoses</th>\n",
              "      <th>Class</th>\n",
              "    </tr>\n",
              "  </thead>\n",
              "  <tbody>\n",
              "    <tr>\n",
              "      <th>0</th>\n",
              "      <td>1000025</td>\n",
              "      <td>5</td>\n",
              "      <td>1</td>\n",
              "      <td>1</td>\n",
              "      <td>1</td>\n",
              "      <td>2</td>\n",
              "      <td>1</td>\n",
              "      <td>3</td>\n",
              "      <td>1</td>\n",
              "      <td>1</td>\n",
              "      <td>2</td>\n",
              "    </tr>\n",
              "    <tr>\n",
              "      <th>1</th>\n",
              "      <td>1002945</td>\n",
              "      <td>5</td>\n",
              "      <td>4</td>\n",
              "      <td>4</td>\n",
              "      <td>5</td>\n",
              "      <td>7</td>\n",
              "      <td>10</td>\n",
              "      <td>3</td>\n",
              "      <td>2</td>\n",
              "      <td>1</td>\n",
              "      <td>2</td>\n",
              "    </tr>\n",
              "    <tr>\n",
              "      <th>2</th>\n",
              "      <td>1015425</td>\n",
              "      <td>3</td>\n",
              "      <td>1</td>\n",
              "      <td>1</td>\n",
              "      <td>1</td>\n",
              "      <td>2</td>\n",
              "      <td>2</td>\n",
              "      <td>3</td>\n",
              "      <td>1</td>\n",
              "      <td>1</td>\n",
              "      <td>2</td>\n",
              "    </tr>\n",
              "    <tr>\n",
              "      <th>3</th>\n",
              "      <td>1016277</td>\n",
              "      <td>6</td>\n",
              "      <td>8</td>\n",
              "      <td>8</td>\n",
              "      <td>1</td>\n",
              "      <td>3</td>\n",
              "      <td>4</td>\n",
              "      <td>3</td>\n",
              "      <td>7</td>\n",
              "      <td>1</td>\n",
              "      <td>2</td>\n",
              "    </tr>\n",
              "    <tr>\n",
              "      <th>4</th>\n",
              "      <td>1017023</td>\n",
              "      <td>4</td>\n",
              "      <td>1</td>\n",
              "      <td>1</td>\n",
              "      <td>3</td>\n",
              "      <td>2</td>\n",
              "      <td>1</td>\n",
              "      <td>3</td>\n",
              "      <td>1</td>\n",
              "      <td>1</td>\n",
              "      <td>2</td>\n",
              "    </tr>\n",
              "  </tbody>\n",
              "</table>\n",
              "</div>"
            ],
            "text/plain": [
              "   Sample code number  Clump Thickness  ...  Mitoses  Class\n",
              "0             1000025                5  ...        1      2\n",
              "1             1002945                5  ...        1      2\n",
              "2             1015425                3  ...        1      2\n",
              "3             1016277                6  ...        1      2\n",
              "4             1017023                4  ...        1      2\n",
              "\n",
              "[5 rows x 11 columns]"
            ]
          },
          "metadata": {},
          "execution_count": 5
        }
      ]
    },
    {
      "cell_type": "code",
      "metadata": {
        "id": "7pb2Dv3QJOjt"
      },
      "source": [
        "# choose the variables from dataset\n",
        "X = dataset.iloc[:, :-1].values\n",
        "y = dataset.iloc[:, -1].values"
      ],
      "execution_count": 6,
      "outputs": []
    },
    {
      "cell_type": "code",
      "metadata": {
        "id": "s5ra-FdTJSpb"
      },
      "source": [
        "from sklearn.model_selection import train_test_split\n",
        "X_train, X_test, y_train, y_test = train_test_split(X, y, test_size = 0.25, random_state = 0)\n",
        "\n",
        "# X_train = StandardScaler().fit_transform(X_train.reshape(1, -1))\n",
        "# y_train = StandardScaler().fit_transform(y_train.reshape(1, -1))"
      ],
      "execution_count": 7,
      "outputs": []
    },
    {
      "cell_type": "markdown",
      "metadata": {
        "id": "owjAbmxZkHjq"
      },
      "source": [
        "#Main function"
      ]
    },
    {
      "cell_type": "code",
      "metadata": {
        "id": "lRrDu54NAOrU"
      },
      "source": [
        "def params_model_selection(model, parameters) -> pd.DataFrame:\n",
        "    \"\"\"\n",
        "    Function to run DS model with different hyperparameters in order to \n",
        "    estimate it and choose the one with the highest accuracy\n",
        "    \"\"\"\n",
        "    def combination_params(*params):\n",
        "        return itertools.product(*params)\n",
        "    accs = []\n",
        "    params_final = []\n",
        "    params_values = list(combination_params(*list(parameters.values())))\n",
        "    print(f\"Estimation parameters of {model.__name__} model\")\n",
        "\n",
        "    for c in tqdm(params_values, position=0, leave=False):\n",
        "        # print(c)\n",
        "        try:\n",
        "            params = dict(zip(tuple(parameters.keys()), c))\n",
        "            classifier = model(**params)\n",
        "\n",
        "\n",
        "            classifier.fit(X_train, y_train)\n",
        "\n",
        "            y_pred = classifier.predict(X_test)\n",
        "\n",
        "            accs.append(accuracy_score(y_test, y_pred))\n",
        "            params_final.append(params)\n",
        "            # print(f' Params {params_values.index(c)+1}/{len(params_values)} of {model.__name__} model is estimated')\n",
        "        except ValueError:\n",
        "            pass\n",
        "        \n",
        "    print(f'Estimation {model.__name__} model done!')\n",
        "    df_res = pd.DataFrame({'Model':model.__name__, 'Accuracy': accs, 'params_final': params_final})\n",
        "    max_acc = df_res['Accuracy'].max()\n",
        "    print(f\"Max value of accuracy is {max_acc}\")\n",
        "    return df_res\n"
      ],
      "execution_count": 16,
      "outputs": []
    },
    {
      "cell_type": "markdown",
      "metadata": {
        "id": "_TZws-oZkLH0"
      },
      "source": [
        "#Create result in table"
      ]
    },
    {
      "cell_type": "code",
      "metadata": {
        "id": "P94TJ8YIdH9J"
      },
      "source": [
        "df_result = pd.DataFrame(columns=['Model', 'Accuracy', 'params_final'])\n"
      ],
      "execution_count": 17,
      "outputs": []
    },
    {
      "cell_type": "code",
      "metadata": {
        "colab": {
          "base_uri": "https://localhost:8080/"
        },
        "id": "mvDXtEjFdT5R",
        "outputId": "a42d5181-9eee-4fe7-8b23-8db7e01f82eb"
      },
      "source": [
        "for model in models:\n",
        "    df_result = pd.concat([df_result, params_model_selection(model[0], model[1])])\n",
        "    print('\\n-----------------------')"
      ],
      "execution_count": 18,
      "outputs": [
        {
          "output_type": "stream",
          "name": "stdout",
          "text": [
            "Estimation parameters of DecisionTreeClassifier model\n"
          ]
        },
        {
          "output_type": "stream",
          "name": "stderr",
          "text": [
            ""
          ]
        },
        {
          "output_type": "stream",
          "name": "stdout",
          "text": [
            "Estimation DecisionTreeClassifier model done!\n",
            "Max value of accuracy is 0.9590643274853801\n",
            "\n",
            "-----------------------\n",
            "Estimation parameters of KNeighborsClassifier model\n"
          ]
        },
        {
          "output_type": "stream",
          "name": "stderr",
          "text": [
            ""
          ]
        },
        {
          "output_type": "stream",
          "name": "stdout",
          "text": [
            "Estimation KNeighborsClassifier model done!\n",
            "Max value of accuracy is 0.6666666666666666\n",
            "\n",
            "-----------------------\n",
            "Estimation parameters of LogisticRegression model\n"
          ]
        },
        {
          "output_type": "stream",
          "name": "stderr",
          "text": [
            ""
          ]
        },
        {
          "output_type": "stream",
          "name": "stdout",
          "text": [
            "Estimation LogisticRegression model done!\n",
            "Max value of accuracy is 0.9473684210526315\n",
            "\n",
            "-----------------------\n",
            "Estimation parameters of GaussianNB model\n"
          ]
        },
        {
          "output_type": "stream",
          "name": "stderr",
          "text": [
            ""
          ]
        },
        {
          "output_type": "stream",
          "name": "stdout",
          "text": [
            "Estimation GaussianNB model done!\n",
            "Max value of accuracy is 0.8187134502923976\n",
            "\n",
            "-----------------------\n",
            "Estimation parameters of RandomForestClassifier model\n"
          ]
        },
        {
          "output_type": "stream",
          "name": "stderr",
          "text": [
            "                                               "
          ]
        },
        {
          "output_type": "stream",
          "name": "stdout",
          "text": [
            "Estimation RandomForestClassifier model done!\n",
            "Max value of accuracy is 0.9590643274853801\n",
            "\n",
            "-----------------------\n"
          ]
        },
        {
          "output_type": "stream",
          "name": "stderr",
          "text": [
            "\r"
          ]
        }
      ]
    },
    {
      "cell_type": "code",
      "metadata": {
        "colab": {
          "base_uri": "https://localhost:8080/",
          "height": 414
        },
        "id": "nCo6EA9uWpsE",
        "outputId": "9588bcb1-ecf8-4008-e0b1-1d3cb9196499"
      },
      "source": [
        "df_result"
      ],
      "execution_count": 19,
      "outputs": [
        {
          "output_type": "execute_result",
          "data": {
            "text/html": [
              "<div>\n",
              "<style scoped>\n",
              "    .dataframe tbody tr th:only-of-type {\n",
              "        vertical-align: middle;\n",
              "    }\n",
              "\n",
              "    .dataframe tbody tr th {\n",
              "        vertical-align: top;\n",
              "    }\n",
              "\n",
              "    .dataframe thead th {\n",
              "        text-align: right;\n",
              "    }\n",
              "</style>\n",
              "<table border=\"1\" class=\"dataframe\">\n",
              "  <thead>\n",
              "    <tr style=\"text-align: right;\">\n",
              "      <th></th>\n",
              "      <th>Model</th>\n",
              "      <th>Accuracy</th>\n",
              "      <th>params_final</th>\n",
              "    </tr>\n",
              "  </thead>\n",
              "  <tbody>\n",
              "    <tr>\n",
              "      <th>0</th>\n",
              "      <td>DecisionTreeClassifier</td>\n",
              "      <td>0.935673</td>\n",
              "      <td>{'criterion': 'gini', 'splitter': 'best', 'max...</td>\n",
              "    </tr>\n",
              "    <tr>\n",
              "      <th>1</th>\n",
              "      <td>DecisionTreeClassifier</td>\n",
              "      <td>0.935673</td>\n",
              "      <td>{'criterion': 'gini', 'splitter': 'best', 'max...</td>\n",
              "    </tr>\n",
              "    <tr>\n",
              "      <th>2</th>\n",
              "      <td>DecisionTreeClassifier</td>\n",
              "      <td>0.918129</td>\n",
              "      <td>{'criterion': 'gini', 'splitter': 'best', 'max...</td>\n",
              "    </tr>\n",
              "    <tr>\n",
              "      <th>3</th>\n",
              "      <td>DecisionTreeClassifier</td>\n",
              "      <td>0.929825</td>\n",
              "      <td>{'criterion': 'gini', 'splitter': 'best', 'max...</td>\n",
              "    </tr>\n",
              "    <tr>\n",
              "      <th>4</th>\n",
              "      <td>DecisionTreeClassifier</td>\n",
              "      <td>0.918129</td>\n",
              "      <td>{'criterion': 'gini', 'splitter': 'best', 'max...</td>\n",
              "    </tr>\n",
              "    <tr>\n",
              "      <th>...</th>\n",
              "      <td>...</td>\n",
              "      <td>...</td>\n",
              "      <td>...</td>\n",
              "    </tr>\n",
              "    <tr>\n",
              "      <th>91</th>\n",
              "      <td>RandomForestClassifier</td>\n",
              "      <td>0.953216</td>\n",
              "      <td>{'n_estimators': 250, 'criterion': 'entropy', ...</td>\n",
              "    </tr>\n",
              "    <tr>\n",
              "      <th>92</th>\n",
              "      <td>RandomForestClassifier</td>\n",
              "      <td>0.953216</td>\n",
              "      <td>{'n_estimators': 250, 'criterion': 'entropy', ...</td>\n",
              "    </tr>\n",
              "    <tr>\n",
              "      <th>93</th>\n",
              "      <td>RandomForestClassifier</td>\n",
              "      <td>0.947368</td>\n",
              "      <td>{'n_estimators': 250, 'criterion': 'entropy', ...</td>\n",
              "    </tr>\n",
              "    <tr>\n",
              "      <th>94</th>\n",
              "      <td>RandomForestClassifier</td>\n",
              "      <td>0.947368</td>\n",
              "      <td>{'n_estimators': 250, 'criterion': 'entropy', ...</td>\n",
              "    </tr>\n",
              "    <tr>\n",
              "      <th>95</th>\n",
              "      <td>RandomForestClassifier</td>\n",
              "      <td>0.941520</td>\n",
              "      <td>{'n_estimators': 250, 'criterion': 'entropy', ...</td>\n",
              "    </tr>\n",
              "  </tbody>\n",
              "</table>\n",
              "<p>229 rows × 3 columns</p>\n",
              "</div>"
            ],
            "text/plain": [
              "                     Model  ...                                       params_final\n",
              "0   DecisionTreeClassifier  ...  {'criterion': 'gini', 'splitter': 'best', 'max...\n",
              "1   DecisionTreeClassifier  ...  {'criterion': 'gini', 'splitter': 'best', 'max...\n",
              "2   DecisionTreeClassifier  ...  {'criterion': 'gini', 'splitter': 'best', 'max...\n",
              "3   DecisionTreeClassifier  ...  {'criterion': 'gini', 'splitter': 'best', 'max...\n",
              "4   DecisionTreeClassifier  ...  {'criterion': 'gini', 'splitter': 'best', 'max...\n",
              "..                     ...  ...                                                ...\n",
              "91  RandomForestClassifier  ...  {'n_estimators': 250, 'criterion': 'entropy', ...\n",
              "92  RandomForestClassifier  ...  {'n_estimators': 250, 'criterion': 'entropy', ...\n",
              "93  RandomForestClassifier  ...  {'n_estimators': 250, 'criterion': 'entropy', ...\n",
              "94  RandomForestClassifier  ...  {'n_estimators': 250, 'criterion': 'entropy', ...\n",
              "95  RandomForestClassifier  ...  {'n_estimators': 250, 'criterion': 'entropy', ...\n",
              "\n",
              "[229 rows x 3 columns]"
            ]
          },
          "metadata": {},
          "execution_count": 19
        }
      ]
    },
    {
      "cell_type": "code",
      "metadata": {
        "colab": {
          "base_uri": "https://localhost:8080/",
          "height": 141
        },
        "id": "wv0zIL4Dgdts",
        "outputId": "660e5b1e-0f72-4b11-96a7-751c44561092"
      },
      "source": [
        "df_result[df_result['Accuracy']==df_result['Accuracy'].max()]"
      ],
      "execution_count": 21,
      "outputs": [
        {
          "output_type": "execute_result",
          "data": {
            "text/html": [
              "<div>\n",
              "<style scoped>\n",
              "    .dataframe tbody tr th:only-of-type {\n",
              "        vertical-align: middle;\n",
              "    }\n",
              "\n",
              "    .dataframe tbody tr th {\n",
              "        vertical-align: top;\n",
              "    }\n",
              "\n",
              "    .dataframe thead th {\n",
              "        text-align: right;\n",
              "    }\n",
              "</style>\n",
              "<table border=\"1\" class=\"dataframe\">\n",
              "  <thead>\n",
              "    <tr style=\"text-align: right;\">\n",
              "      <th></th>\n",
              "      <th>Model</th>\n",
              "      <th>Accuracy</th>\n",
              "      <th>params_final</th>\n",
              "    </tr>\n",
              "  </thead>\n",
              "  <tbody>\n",
              "    <tr>\n",
              "      <th>44</th>\n",
              "      <td>DecisionTreeClassifier</td>\n",
              "      <td>0.959064</td>\n",
              "      <td>{'criterion': 'gini', 'splitter': 'random', 'm...</td>\n",
              "    </tr>\n",
              "    <tr>\n",
              "      <th>68</th>\n",
              "      <td>DecisionTreeClassifier</td>\n",
              "      <td>0.959064</td>\n",
              "      <td>{'criterion': 'entropy', 'splitter': 'best', '...</td>\n",
              "    </tr>\n",
              "    <tr>\n",
              "      <th>12</th>\n",
              "      <td>RandomForestClassifier</td>\n",
              "      <td>0.959064</td>\n",
              "      <td>{'n_estimators': 100, 'criterion': 'entropy', ...</td>\n",
              "    </tr>\n",
              "  </tbody>\n",
              "</table>\n",
              "</div>"
            ],
            "text/plain": [
              "                     Model  ...                                       params_final\n",
              "44  DecisionTreeClassifier  ...  {'criterion': 'gini', 'splitter': 'random', 'm...\n",
              "68  DecisionTreeClassifier  ...  {'criterion': 'entropy', 'splitter': 'best', '...\n",
              "12  RandomForestClassifier  ...  {'n_estimators': 100, 'criterion': 'entropy', ...\n",
              "\n",
              "[3 rows x 3 columns]"
            ]
          },
          "metadata": {},
          "execution_count": 21
        }
      ]
    },
    {
      "cell_type": "code",
      "metadata": {
        "colab": {
          "base_uri": "https://localhost:8080/"
        },
        "id": "EySmaCkehexW",
        "outputId": "d75d7682-22d9-480e-ac62-62a3f669348b"
      },
      "source": [
        "list(df_result[df_result['Accuracy']==df_result['Accuracy'].max()]['params_final'])"
      ],
      "execution_count": 22,
      "outputs": [
        {
          "output_type": "execute_result",
          "data": {
            "text/plain": [
              "[{'criterion': 'gini',\n",
              "  'max_depth': 9,\n",
              "  'max_features': None,\n",
              "  'splitter': 'random'},\n",
              " {'criterion': 'entropy',\n",
              "  'max_depth': 9,\n",
              "  'max_features': None,\n",
              "  'splitter': 'best'},\n",
              " {'criterion': 'entropy',\n",
              "  'max_depth': None,\n",
              "  'max_features': 'auto',\n",
              "  'n_estimators': 100}]"
            ]
          },
          "metadata": {},
          "execution_count": 22
        }
      ]
    }
  ]
}